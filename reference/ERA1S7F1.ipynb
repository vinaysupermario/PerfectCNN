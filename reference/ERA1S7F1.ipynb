{
  "nbformat": 4,
  "nbformat_minor": 0,
  "metadata": {
    "colab": {
      "provenance": [],
      "gpuType": "T4"
    },
    "kernelspec": {
      "name": "python3",
      "display_name": "Python 3"
    },
    "accelerator": "GPU"
  },
  "cells": [
    {
      "cell_type": "markdown",
      "source": [
        "https://colab.research.google.com/drive/1aFgWmHNJoCyZ56zRvoE8xUdAe285aWmb"
      ],
      "metadata": {
        "id": "6xUxLgqFspL8"
      }
    },
    {
      "cell_type": "markdown",
      "source": [
        "# CODE 1: The Setup"
      ],
      "metadata": {
        "id": "R7j8pVqIslNV"
      }
    },
    {
      "cell_type": "markdown",
      "source": [
        "  \n",
        "Target:\n",
        "\n",
        "1. Get the set-up right\n",
        "2. Set Transforms\n",
        "3. Set Data Loader\n",
        "4. Set Basic Working Code\n",
        "5. Set Basic Training  & Test Loop\n",
        "6. Results:\n",
        "    1. Parameters: 6.3M\n",
        "    2. Best Training Accuracy: 99.99\n",
        "    3. Best Test Accuracy: 99.24\n",
        "7. Analysis:\n",
        "    1. Extremely Heavy Model for such a problem\n",
        "    2. Model is over-fitting, but we are changing our model in the next step"
      ],
      "metadata": {
        "id": "UsguWrOJu6B3"
      }
    },
    {
      "cell_type": "markdown",
      "metadata": {
        "id": "aO-7t1Y7-hV4"
      },
      "source": [
        "# Import Libraries"
      ]
    },
    {
      "cell_type": "code",
      "metadata": {
        "id": "8kH16rnZ7wt_"
      },
      "source": [
        "from __future__ import print_function\n",
        "import torch\n",
        "import torch.nn as nn\n",
        "import torch.nn.functional as F\n",
        "import torch.optim as optim\n",
        "from torchvision import datasets, transforms"
      ],
      "execution_count": null,
      "outputs": []
    },
    {
      "cell_type": "markdown",
      "metadata": {
        "id": "ky3f_Odl-7um"
      },
      "source": [
        "## Data Transformations\n",
        "\n",
        "We first start with defining our data transformations. We need to think what our data is and how can we augment it to correct represent images which it might not see otherwise.\n",
        "\n",
        "Here is the list of all the transformations which come pre-built with PyTorch\n",
        "\n",
        "1.   Compose\n",
        "2.   ToTensor\n",
        "3.   ToPILImage\n",
        "4. Normalize\n",
        "5. Resize\n",
        "6. Scale\n",
        "7. CenterCrop\n",
        "8. Pad\n",
        "9. Lambda\n",
        "10. RandomApply\n",
        "11. RandomChoice\n",
        "12. RandomOrder\n",
        "13. RandomCrop\n",
        "14. RandomHorizontalFlip\n",
        "15. RandomVerticalFlip\n",
        "16. RandomResizedCrop\n",
        "17. RandomSizedCrop\n",
        "18. FiveCrop\n",
        "19. TenCrop\n",
        "20. LinearTransformation\n",
        "21. ColorJitter\n",
        "22. RandomRotation\n",
        "23. RandomAffine\n",
        "24. Grayscale\n",
        "25. RandomGrayscale\n",
        "26. RandomPerspective\n",
        "27. RandomErasing\n",
        "\n",
        "You can read more about them [here](https://pytorch.org/docs/stable/_modules/torchvision/transforms/transforms.html)"
      ]
    },
    {
      "cell_type": "code",
      "metadata": {
        "id": "YtssFUKb-jqx"
      },
      "source": [
        "# Train Phase transformations\n",
        "train_transforms = transforms.Compose([\n",
        "                                      #  transforms.Resize((28, 28)),\n",
        "                                      #  transforms.ColorJitter(brightness=0.10, contrast=0.1, saturation=0.10, hue=0.1),\n",
        "                                       transforms.ToTensor(),\n",
        "                                       transforms.Normalize((0.1307,), (0.3081,)) # The mean and std have to be sequences (e.g., tuples), therefore you should add a comma after the values.\n",
        "                                       # Note the difference between (0.1307) and (0.1307,)\n",
        "                                       ])\n",
        "\n",
        "# Test Phase transformations\n",
        "test_transforms = transforms.Compose([\n",
        "                                      #  transforms.Resize((28, 28)),\n",
        "                                      #  transforms.ColorJitter(brightness=0.10, contrast=0.1, saturation=0.10, hue=0.1),\n",
        "                                       transforms.ToTensor(),\n",
        "                                       transforms.Normalize((0.1307,), (0.3081,))\n",
        "                                       ])\n"
      ],
      "execution_count": null,
      "outputs": []
    },
    {
      "cell_type": "markdown",
      "metadata": {
        "id": "oQciFYo2B1mO"
      },
      "source": [
        "# Dataset and Creating Train/Test Split"
      ]
    },
    {
      "cell_type": "code",
      "metadata": {
        "id": "_4A84rlfDA23",
        "colab": {
          "base_uri": "https://localhost:8080/"
        },
        "outputId": "d2351751-198d-4617-d7ab-b969154f6db8"
      },
      "source": [
        "train = datasets.MNIST('./data', train=True, download=True, transform=train_transforms)\n",
        "test = datasets.MNIST('./data', train=False, download=True, transform=test_transforms)"
      ],
      "execution_count": null,
      "outputs": [
        {
          "output_type": "stream",
          "name": "stdout",
          "text": [
            "Downloading http://yann.lecun.com/exdb/mnist/train-images-idx3-ubyte.gz\n",
            "Downloading http://yann.lecun.com/exdb/mnist/train-images-idx3-ubyte.gz to ./data/MNIST/raw/train-images-idx3-ubyte.gz\n"
          ]
        },
        {
          "output_type": "stream",
          "name": "stderr",
          "text": [
            "100%|██████████| 9912422/9912422 [00:00<00:00, 102760359.88it/s]\n"
          ]
        },
        {
          "output_type": "stream",
          "name": "stdout",
          "text": [
            "Extracting ./data/MNIST/raw/train-images-idx3-ubyte.gz to ./data/MNIST/raw\n",
            "\n",
            "Downloading http://yann.lecun.com/exdb/mnist/train-labels-idx1-ubyte.gz\n",
            "Downloading http://yann.lecun.com/exdb/mnist/train-labels-idx1-ubyte.gz to ./data/MNIST/raw/train-labels-idx1-ubyte.gz\n"
          ]
        },
        {
          "output_type": "stream",
          "name": "stderr",
          "text": [
            "100%|██████████| 28881/28881 [00:00<00:00, 59148288.00it/s]\n"
          ]
        },
        {
          "output_type": "stream",
          "name": "stdout",
          "text": [
            "Extracting ./data/MNIST/raw/train-labels-idx1-ubyte.gz to ./data/MNIST/raw\n",
            "\n",
            "Downloading http://yann.lecun.com/exdb/mnist/t10k-images-idx3-ubyte.gz\n",
            "Downloading http://yann.lecun.com/exdb/mnist/t10k-images-idx3-ubyte.gz to ./data/MNIST/raw/t10k-images-idx3-ubyte.gz\n"
          ]
        },
        {
          "output_type": "stream",
          "name": "stderr",
          "text": [
            "100%|██████████| 1648877/1648877 [00:00<00:00, 25181936.14it/s]\n"
          ]
        },
        {
          "output_type": "stream",
          "name": "stdout",
          "text": [
            "Extracting ./data/MNIST/raw/t10k-images-idx3-ubyte.gz to ./data/MNIST/raw\n",
            "\n",
            "Downloading http://yann.lecun.com/exdb/mnist/t10k-labels-idx1-ubyte.gz\n",
            "Downloading http://yann.lecun.com/exdb/mnist/t10k-labels-idx1-ubyte.gz to ./data/MNIST/raw/t10k-labels-idx1-ubyte.gz\n"
          ]
        },
        {
          "output_type": "stream",
          "name": "stderr",
          "text": [
            "100%|██████████| 4542/4542 [00:00<00:00, 15653680.17it/s]\n"
          ]
        },
        {
          "output_type": "stream",
          "name": "stdout",
          "text": [
            "Extracting ./data/MNIST/raw/t10k-labels-idx1-ubyte.gz to ./data/MNIST/raw\n",
            "\n"
          ]
        }
      ]
    },
    {
      "cell_type": "markdown",
      "metadata": {
        "id": "qgldp_3-Dn0c"
      },
      "source": [
        "# Dataloader Arguments & Test/Train Dataloaders\n"
      ]
    },
    {
      "cell_type": "code",
      "metadata": {
        "id": "C8OLDR79DrHG",
        "colab": {
          "base_uri": "https://localhost:8080/"
        },
        "outputId": "e0f873a6-33d4-4ff9-d959-edb48b8f8ff3"
      },
      "source": [
        "SEED = 1\n",
        "\n",
        "# CUDA?\n",
        "cuda = torch.cuda.is_available()\n",
        "print(\"CUDA Available?\", cuda)\n",
        "\n",
        "# For reproducibility\n",
        "torch.manual_seed(SEED)\n",
        "\n",
        "if cuda:\n",
        "    torch.cuda.manual_seed(SEED)\n",
        "\n",
        "# dataloader arguments - something you'll fetch these from cmdprmt\n",
        "dataloader_args = dict(shuffle=True, batch_size=128, num_workers=4, pin_memory=True) if cuda else dict(shuffle=True, batch_size=64)\n",
        "\n",
        "# train dataloader\n",
        "train_loader = torch.utils.data.DataLoader(train, **dataloader_args)\n",
        "\n",
        "# test dataloader\n",
        "test_loader = torch.utils.data.DataLoader(test, **dataloader_args)"
      ],
      "execution_count": null,
      "outputs": [
        {
          "output_type": "stream",
          "name": "stdout",
          "text": [
            "CUDA Available? True\n"
          ]
        },
        {
          "output_type": "stream",
          "name": "stderr",
          "text": [
            "/usr/local/lib/python3.10/dist-packages/torch/utils/data/dataloader.py:560: UserWarning: This DataLoader will create 4 worker processes in total. Our suggested max number of worker in current system is 2, which is smaller than what this DataLoader is going to create. Please be aware that excessive worker creation might get DataLoader running slow or even freeze, lower the worker number to avoid potential slowness/freeze if necessary.\n",
            "  warnings.warn(_create_warning_msg(\n"
          ]
        }
      ]
    },
    {
      "cell_type": "markdown",
      "metadata": {
        "id": "-TFjoFekE_va"
      },
      "source": [
        "# Data Statistics\n",
        "\n",
        "It is important to know your data very well. Let's check some of the statistics around our data and how it actually looks like"
      ]
    },
    {
      "cell_type": "code",
      "metadata": {
        "id": "hWZPPo3yEHDW",
        "colab": {
          "base_uri": "https://localhost:8080/",
          "height": 621
        },
        "outputId": "ce7dc349-6bdb-466e-d58b-5e052778dd9f"
      },
      "source": [
        "# We'd need to convert it into Numpy! Remember above we have converted it into tensors already\n",
        "train_data = train.train_data\n",
        "train_data = train.transform(train_data.numpy())\n",
        "\n",
        "print('[Train]')\n",
        "print(' - Numpy Shape:', train.train_data.cpu().numpy().shape)\n",
        "print(' - Tensor Shape:', train.train_data.size())\n",
        "print(' - min:', torch.min(train_data))\n",
        "print(' - max:', torch.max(train_data))\n",
        "print(' - mean:', torch.mean(train_data))\n",
        "print(' - std:', torch.std(train_data))\n",
        "print(' - var:', torch.var(train_data))\n",
        "\n",
        "dataiter = iter(train_loader)\n",
        "images, labels = next(dataiter)\n",
        "\n",
        "print(images.shape)\n",
        "print(labels.shape)\n",
        "\n",
        "# Let's visualize some of the images\n",
        "%matplotlib inline\n",
        "import matplotlib.pyplot as plt\n",
        "\n",
        "plt.imshow(images[0].numpy().squeeze(), cmap='gray_r')\n"
      ],
      "execution_count": null,
      "outputs": [
        {
          "output_type": "stream",
          "name": "stdout",
          "text": [
            "[Train]\n",
            " - Numpy Shape: (60000, 28, 28)\n",
            " - Tensor Shape: torch.Size([60000, 28, 28])\n",
            " - min: tensor(-0.4242)\n",
            " - max: tensor(2.8215)\n",
            " - mean: tensor(-0.0001)\n",
            " - std: tensor(1.0000)\n",
            " - var: tensor(1.0001)\n",
            "torch.Size([128, 1, 28, 28])\n",
            "torch.Size([128])\n"
          ]
        },
        {
          "output_type": "execute_result",
          "data": {
            "text/plain": [
              "<matplotlib.image.AxesImage at 0x7f62fa034f10>"
            ]
          },
          "metadata": {},
          "execution_count": 5
        },
        {
          "output_type": "display_data",
          "data": {
            "text/plain": [
              "<Figure size 640x480 with 1 Axes>"
            ],
            "image/png": "[encoded data removed]"
          },
          "metadata": {}
        }
      ]
    },
    {
      "cell_type": "markdown",
      "metadata": {
        "id": "7l9lNaWYKuik"
      },
      "source": [
        "## MORE\n",
        "\n",
        "It is important that we view as many images as possible. This is required to get some idea on image augmentation later on"
      ]
    },
    {
      "cell_type": "code",
      "metadata": {
        "id": "hXXAg8hbK16u",
        "colab": {
          "base_uri": "https://localhost:8080/",
          "height": 395
        },
        "outputId": "4c240ed4-24ba-42d1-83e8-7deb17eb60d7"
      },
      "source": [
        "figure = plt.figure()\n",
        "num_of_images = 60\n",
        "for index in range(1, num_of_images + 1):\n",
        "    plt.subplot(6, 10, index)\n",
        "    plt.axis('off')\n",
        "    plt.imshow(images[index].numpy().squeeze(), cmap='gray_r')"
      ],
      "execution_count": null,
      "outputs": [
        {
          "output_type": "display_data",
          "data": {
            "text/plain": [
              "<Figure size 640x480 with 60 Axes>"
            ],
            "image/png": "[encoded data removed]"
          },
          "metadata": {}
        }
      ]
    },
    {
      "cell_type": "markdown",
      "metadata": {
        "id": "JF5-8_I3G6ix"
      },
      "source": [
        "# How did we get those mean and std values which we used above?\n",
        "\n",
        "Let's run a small experiment"
      ]
    },
    {
      "cell_type": "code",
      "metadata": {
        "id": "yooPHm_aFc5A",
        "colab": {
          "base_uri": "https://localhost:8080/"
        },
        "outputId": "cf2dcbec-f43e-4df8-a4bb-438b7a4e1fa4"
      },
      "source": [
        "# simple transform\n",
        "simple_transforms = transforms.Compose([\n",
        "                                      #  transforms.Resize((28, 28)),\n",
        "                                      #  transforms.ColorJitter(brightness=0.10, contrast=0.1, saturation=0.10, hue=0.1),\n",
        "                                       transforms.ToTensor(),\n",
        "                                      #  transforms.Normalize((0.1307,), (0.3081,)) # The mean and std have to be sequences (e.g., tuples), therefore you should add a comma after the values.\n",
        "                                       # Note the difference between (0.1307) and (0.1307,)\n",
        "                                       ])\n",
        "exp = datasets.MNIST('./data', train=True, download=True, transform=simple_transforms)\n",
        "exp_data = exp.train_data\n",
        "exp_data = exp.transform(exp_data.numpy())\n",
        "\n",
        "print('[Train]')\n",
        "print(' - Numpy Shape:', exp.train_data.cpu().numpy().shape)\n",
        "print(' - Tensor Shape:', exp.train_data.size())\n",
        "print(' - min:', torch.min(exp_data))\n",
        "print(' - max:', torch.max(exp_data))\n",
        "print(' - mean:', torch.mean(exp_data))\n",
        "print(' - std:', torch.std(exp_data))\n",
        "print(' - var:', torch.var(exp_data))"
      ],
      "execution_count": null,
      "outputs": [
        {
          "output_type": "stream",
          "name": "stdout",
          "text": [
            "[Train]\n",
            " - Numpy Shape: (60000, 28, 28)\n",
            " - Tensor Shape: torch.Size([60000, 28, 28])\n",
            " - min: tensor(0.)\n",
            " - max: tensor(1.)\n",
            " - mean: tensor(0.1307)\n",
            " - std: tensor(0.3081)\n",
            " - var: tensor(0.0949)\n"
          ]
        }
      ]
    },
    {
      "cell_type": "markdown",
      "metadata": {
        "id": "ubQL3H6RJL3h"
      },
      "source": [
        "# The model\n",
        "Let's start with the model we first saw"
      ]
    },
    {
      "cell_type": "code",
      "metadata": {
        "id": "7FXQlB9kH1ov"
      },
      "source": [
        "class Net(nn.Module):\n",
        "    def __init__(self):\n",
        "        super(Net, self).__init__()\n",
        "        self.conv1 = nn.Conv2d(1, 32, 3, padding=1) # 28>28 | 3\n",
        "        self.conv2 = nn.Conv2d(32, 64, 3, padding=1) # 28 > 28 |  5\n",
        "        self.pool1 = nn.MaxPool2d(2, 2) # 28 > 14 | 10\n",
        "        self.conv3 = nn.Conv2d(64, 128, 3, padding=1) # 14> 14 | 12\n",
        "        self.conv4 = nn.Conv2d(128, 256, 3, padding=1) #14 > 14 | 14\n",
        "        self.pool2 = nn.MaxPool2d(2, 2) # 14 > 7 | 28\n",
        "        self.conv5 = nn.Conv2d(256, 512, 3) # 7 > 5 | 30\n",
        "        self.conv6 = nn.Conv2d(512, 1024, 3) # 5 > 3 | 32 | 3*3*1024 | 3x3x1024x10 |\n",
        "        self.conv7 = nn.Conv2d(1024, 10, 3) # 3 > 1 | 34 | > 1x1x10\n",
        "\n",
        "    def forward(self, x):\n",
        "        x = self.pool1(F.relu(self.conv2(F.relu(self.conv1(x)))))\n",
        "        x = self.pool2(F.relu(self.conv4(F.relu(self.conv3(x)))))\n",
        "        x = F.relu(self.conv6(F.relu(self.conv5(x))))\n",
        "        # x = F.relu(self.conv7(x))\n",
        "        x = self.conv7(x)\n",
        "        x = x.view(-1, 10) #1x1x10> 10\n",
        "        return F.log_softmax(x, dim=-1)"
      ],
      "execution_count": null,
      "outputs": []
    },
    {
      "cell_type": "markdown",
      "metadata": {
        "id": "M3-vp8X9LCWo"
      },
      "source": [
        "# Model Params\n",
        "Can't emphasize on how important viewing Model Summary is.\n",
        "Unfortunately, there is no in-built model visualizer, so we have to take external help"
      ]
    },
    {
      "cell_type": "code",
      "metadata": {
        "id": "5skB97zIJQQe",
        "colab": {
          "base_uri": "https://localhost:8080/"
        },
        "outputId": "c9853f93-b46a-441e-d4d6-4f68dc65b354"
      },
      "source": [
        "!pip install torchsummary\n",
        "from torchsummary import summary\n",
        "use_cuda = torch.cuda.is_available()\n",
        "device = torch.device(\"cuda\" if use_cuda else \"cpu\")\n",
        "print(device)\n",
        "model = Net().to(device)\n",
        "summary(model, input_size=(1, 28, 28))"
      ],
      "execution_count": null,
      "outputs": [
        {
          "output_type": "stream",
          "name": "stdout",
          "text": [
            "Looking in indexes: https://pypi.org/simple, https://us-python.pkg.dev/colab-wheels/public/simple/\n",
            "Requirement already satisfied: torchsummary in /usr/local/lib/python3.10/dist-packages (1.5.1)\n",
            "cuda\n",
            "----------------------------------------------------------------\n",
            "        Layer (type)               Output Shape         Param #\n",
            "================================================================\n",
            "            Conv2d-1           [-1, 32, 28, 28]             320\n",
            "            Conv2d-2           [-1, 64, 28, 28]          18,496\n",
            "         MaxPool2d-3           [-1, 64, 14, 14]               0\n",
            "            Conv2d-4          [-1, 128, 14, 14]          73,856\n",
            "            Conv2d-5          [-1, 256, 14, 14]         295,168\n",
            "         MaxPool2d-6            [-1, 256, 7, 7]               0\n",
            "            Conv2d-7            [-1, 512, 5, 5]       1,180,160\n",
            "            Conv2d-8           [-1, 1024, 3, 3]       4,719,616\n",
            "            Conv2d-9             [-1, 10, 1, 1]          92,170\n",
            "================================================================\n",
            "Total params: 6,379,786\n",
            "Trainable params: 6,379,786\n",
            "Non-trainable params: 0\n",
            "----------------------------------------------------------------\n",
            "Input size (MB): 0.00\n",
            "Forward/backward pass size (MB): 1.51\n",
            "Params size (MB): 24.34\n",
            "Estimated Total Size (MB): 25.85\n",
            "----------------------------------------------------------------\n"
          ]
        }
      ]
    },
    {
      "cell_type": "markdown",
      "metadata": {
        "id": "1__x_SbrL7z3"
      },
      "source": [
        "# Training and Testing\n",
        "\n",
        "All right, so we have 6.3M params, and that's too many, we know that. But the purpose of this notebook is to set things right for our future experiments.\n",
        "\n",
        "Looking at logs can be boring, so we'll introduce **tqdm** progressbar to get cooler logs.\n",
        "\n",
        "Let's write train and test functions"
      ]
    },
    {
      "cell_type": "code",
      "metadata": {
        "id": "fbkF2nN_LYIb"
      },
      "source": [
        "from tqdm import tqdm\n",
        "\n",
        "train_losses = []\n",
        "test_losses = []\n",
        "train_acc = []\n",
        "test_acc = []\n",
        "\n",
        "def train(model, device, train_loader, optimizer, epoch):\n",
        "  model.train()\n",
        "  pbar = tqdm(train_loader)\n",
        "  correct = 0\n",
        "  processed = 0\n",
        "  for batch_idx, (data, target) in enumerate(pbar):\n",
        "    # get samples\n",
        "    data, target = data.to(device), target.to(device)\n",
        "\n",
        "    # Init\n",
        "    optimizer.zero_grad()\n",
        "    # In PyTorch, we need to set the gradients to zero before starting to do backpropragation because PyTorch accumulates the gradients on subsequent backward passes.\n",
        "    # Because of this, when you start your training loop, ideally you should zero out the gradients so that you do the parameter update correctly.\n",
        "\n",
        "    # Predict\n",
        "    y_pred = model(data)\n",
        "\n",
        "    # Calculate loss\n",
        "    loss = F.nll_loss(y_pred, target)\n",
        "    train_losses.append(loss)\n",
        "\n",
        "    # Backpropagation\n",
        "    loss.backward()\n",
        "    optimizer.step()\n",
        "\n",
        "    # Update pbar-tqdm\n",
        "\n",
        "    pred = y_pred.argmax(dim=1, keepdim=True)  # get the index of the max log-probability\n",
        "    correct += pred.eq(target.view_as(pred)).sum().item()\n",
        "    processed += len(data)\n",
        "\n",
        "    pbar.set_description(desc= f'Loss={loss.item()} Batch_id={batch_idx} Accuracy={100*correct/processed:0.2f}')\n",
        "    train_acc.append(100*correct/processed)\n",
        "\n",
        "def test(model, device, test_loader):\n",
        "    model.eval()\n",
        "    test_loss = 0\n",
        "    correct = 0\n",
        "    with torch.no_grad():\n",
        "        for data, target in test_loader:\n",
        "            data, target = data.to(device), target.to(device)\n",
        "            output = model(data)\n",
        "            test_loss += F.nll_loss(output, target, reduction='sum').item()  # sum up batch loss\n",
        "            pred = output.argmax(dim=1, keepdim=True)  # get the index of the max log-probability\n",
        "            correct += pred.eq(target.view_as(pred)).sum().item()\n",
        "\n",
        "    test_loss /= len(test_loader.dataset)\n",
        "    test_losses.append(test_loss)\n",
        "\n",
        "    print('\\nTest set: Average loss: {:.4f}, Accuracy: {}/{} ({:.2f}%)\\n'.format(\n",
        "        test_loss, correct, len(test_loader.dataset),\n",
        "        100. * correct / len(test_loader.dataset)))\n",
        "\n",
        "    test_acc.append(100. * correct / len(test_loader.dataset))"
      ],
      "execution_count": null,
      "outputs": []
    },
    {
      "cell_type": "markdown",
      "metadata": {
        "id": "drokW8wWODKq"
      },
      "source": [
        "# Let's Train and test our model"
      ]
    },
    {
      "cell_type": "code",
      "metadata": {
        "id": "xMCFxeAKOB53",
        "colab": {
          "base_uri": "https://localhost:8080/"
        },
        "outputId": "0cbcfed9-de1c-4f4d-838a-23b0e02a543d"
      },
      "source": [
        "model =  Net().to(device)\n",
        "optimizer = optim.SGD(model.parameters(), lr=0.01, momentum=0.9)\n",
        "EPOCHS = 20\n",
        "for epoch in range(EPOCHS):\n",
        "    print(\"EPOCH:\", epoch)\n",
        "    train(model, device, train_loader, optimizer, epoch)\n",
        "    test(model, device, test_loader)"
      ],
      "execution_count": null,
      "outputs": [
        {
          "output_type": "stream",
          "name": "stdout",
          "text": [
            "EPOCH: 0\n"
          ]
        },
        {
          "output_type": "stream",
          "name": "stderr",
          "text": [
            "Loss=0.0525066964328289 Batch_id=468 Accuracy=88.03: 100%|██████████| 469/469 [00:20<00:00, 22.47it/s]\n"
          ]
        },
        {
          "output_type": "stream",
          "name": "stdout",
          "text": [
            "\n",
            "Test set: Average loss: 0.0626, Accuracy: 9787/10000 (97.87%)\n",
            "\n",
            "EPOCH: 1\n"
          ]
        },
        {
          "output_type": "stream",
          "name": "stderr",
          "text": [
            "Loss=0.021765952929854393 Batch_id=468 Accuracy=98.41: 100%|██████████| 469/469 [00:23<00:00, 20.25it/s]\n"
          ]
        },
        {
          "output_type": "stream",
          "name": "stdout",
          "text": [
            "\n",
            "Test set: Average loss: 0.0349, Accuracy: 9883/10000 (98.83%)\n",
            "\n",
            "EPOCH: 2\n"
          ]
        },
        {
          "output_type": "stream",
          "name": "stderr",
          "text": [
            "Loss=0.06084553897380829 Batch_id=468 Accuracy=98.93: 100%|██████████| 469/469 [00:21<00:00, 21.58it/s]\n"
          ]
        },
        {
          "output_type": "stream",
          "name": "stdout",
          "text": [
            "\n",
            "Test set: Average loss: 0.0324, Accuracy: 9885/10000 (98.85%)\n",
            "\n",
            "EPOCH: 3\n"
          ]
        },
        {
          "output_type": "stream",
          "name": "stderr",
          "text": [
            "Loss=0.006625731009989977 Batch_id=468 Accuracy=99.22: 100%|██████████| 469/469 [00:20<00:00, 22.62it/s]\n"
          ]
        },
        {
          "output_type": "stream",
          "name": "stdout",
          "text": [
            "\n",
            "Test set: Average loss: 0.0289, Accuracy: 9906/10000 (99.06%)\n",
            "\n",
            "EPOCH: 4\n"
          ]
        },
        {
          "output_type": "stream",
          "name": "stderr",
          "text": [
            "Loss=0.010127569548785686 Batch_id=468 Accuracy=99.44: 100%|██████████| 469/469 [00:21<00:00, 21.98it/s]\n"
          ]
        },
        {
          "output_type": "stream",
          "name": "stdout",
          "text": [
            "\n",
            "Test set: Average loss: 0.0286, Accuracy: 9901/10000 (99.01%)\n",
            "\n",
            "EPOCH: 5\n"
          ]
        },
        {
          "output_type": "stream",
          "name": "stderr",
          "text": [
            "Loss=0.005708999931812286 Batch_id=468 Accuracy=99.54: 100%|██████████| 469/469 [00:20<00:00, 22.40it/s]\n"
          ]
        },
        {
          "output_type": "stream",
          "name": "stdout",
          "text": [
            "\n",
            "Test set: Average loss: 0.0269, Accuracy: 9913/10000 (99.13%)\n",
            "\n",
            "EPOCH: 6\n"
          ]
        },
        {
          "output_type": "stream",
          "name": "stderr",
          "text": [
            "Loss=0.039499230682849884 Batch_id=468 Accuracy=99.67: 100%|██████████| 469/469 [00:21<00:00, 21.55it/s]\n"
          ]
        },
        {
          "output_type": "stream",
          "name": "stdout",
          "text": [
            "\n",
            "Test set: Average loss: 0.0263, Accuracy: 9917/10000 (99.17%)\n",
            "\n",
            "EPOCH: 7\n"
          ]
        },
        {
          "output_type": "stream",
          "name": "stderr",
          "text": [
            "Loss=0.011014115996658802 Batch_id=468 Accuracy=99.71: 100%|██████████| 469/469 [00:20<00:00, 22.90it/s]\n"
          ]
        },
        {
          "output_type": "stream",
          "name": "stdout",
          "text": [
            "\n",
            "Test set: Average loss: 0.0292, Accuracy: 9915/10000 (99.15%)\n",
            "\n",
            "EPOCH: 8\n"
          ]
        },
        {
          "output_type": "stream",
          "name": "stderr",
          "text": [
            "Loss=0.003996113780885935 Batch_id=468 Accuracy=99.76: 100%|██████████| 469/469 [00:20<00:00, 23.08it/s]\n"
          ]
        },
        {
          "output_type": "stream",
          "name": "stdout",
          "text": [
            "\n",
            "Test set: Average loss: 0.0279, Accuracy: 9921/10000 (99.21%)\n",
            "\n",
            "EPOCH: 9\n"
          ]
        },
        {
          "output_type": "stream",
          "name": "stderr",
          "text": [
            "Loss=0.0004153123591095209 Batch_id=468 Accuracy=99.81: 100%|██████████| 469/469 [00:20<00:00, 22.37it/s]\n"
          ]
        },
        {
          "output_type": "stream",
          "name": "stdout",
          "text": [
            "\n",
            "Test set: Average loss: 0.0275, Accuracy: 9924/10000 (99.24%)\n",
            "\n",
            "EPOCH: 10\n"
          ]
        },
        {
          "output_type": "stream",
          "name": "stderr",
          "text": [
            "Loss=0.0015012939693406224 Batch_id=468 Accuracy=99.86: 100%|██████████| 469/469 [00:20<00:00, 22.36it/s]\n"
          ]
        },
        {
          "output_type": "stream",
          "name": "stdout",
          "text": [
            "\n",
            "Test set: Average loss: 0.0247, Accuracy: 9929/10000 (99.29%)\n",
            "\n",
            "EPOCH: 11\n"
          ]
        },
        {
          "output_type": "stream",
          "name": "stderr",
          "text": [
            "Loss=0.0007965001277625561 Batch_id=468 Accuracy=99.87: 100%|██████████| 469/469 [00:20<00:00, 22.38it/s]\n"
          ]
        },
        {
          "output_type": "stream",
          "name": "stdout",
          "text": [
            "\n",
            "Test set: Average loss: 0.0351, Accuracy: 9910/10000 (99.10%)\n",
            "\n",
            "EPOCH: 12\n"
          ]
        },
        {
          "output_type": "stream",
          "name": "stderr",
          "text": [
            "Loss=1.392918511555763e-05 Batch_id=468 Accuracy=99.85: 100%|██████████| 469/469 [00:20<00:00, 23.25it/s]\n"
          ]
        },
        {
          "output_type": "stream",
          "name": "stdout",
          "text": [
            "\n",
            "Test set: Average loss: 0.0290, Accuracy: 9926/10000 (99.26%)\n",
            "\n",
            "EPOCH: 13\n"
          ]
        },
        {
          "output_type": "stream",
          "name": "stderr",
          "text": [
            "Loss=0.004478180781006813 Batch_id=468 Accuracy=99.95: 100%|██████████| 469/469 [00:21<00:00, 22.23it/s]\n"
          ]
        },
        {
          "output_type": "stream",
          "name": "stdout",
          "text": [
            "\n",
            "Test set: Average loss: 0.0414, Accuracy: 9913/10000 (99.13%)\n",
            "\n",
            "EPOCH: 14\n"
          ]
        },
        {
          "output_type": "stream",
          "name": "stderr",
          "text": [
            "Loss=6.267857679631561e-05 Batch_id=468 Accuracy=99.86: 100%|██████████| 469/469 [00:20<00:00, 22.59it/s]\n"
          ]
        },
        {
          "output_type": "stream",
          "name": "stdout",
          "text": [
            "\n",
            "Test set: Average loss: 0.0277, Accuracy: 9927/10000 (99.27%)\n",
            "\n",
            "EPOCH: 15\n"
          ]
        },
        {
          "output_type": "stream",
          "name": "stderr",
          "text": [
            "Loss=0.0001122226458392106 Batch_id=468 Accuracy=99.94: 100%|██████████| 469/469 [00:20<00:00, 23.11it/s]\n"
          ]
        },
        {
          "output_type": "stream",
          "name": "stdout",
          "text": [
            "\n",
            "Test set: Average loss: 0.0259, Accuracy: 9935/10000 (99.35%)\n",
            "\n",
            "EPOCH: 16\n"
          ]
        },
        {
          "output_type": "stream",
          "name": "stderr",
          "text": [
            "Loss=1.5033109775686171e-05 Batch_id=468 Accuracy=99.97: 100%|██████████| 469/469 [00:20<00:00, 22.45it/s]\n"
          ]
        },
        {
          "output_type": "stream",
          "name": "stdout",
          "text": [
            "\n",
            "Test set: Average loss: 0.0323, Accuracy: 9929/10000 (99.29%)\n",
            "\n",
            "EPOCH: 17\n"
          ]
        },
        {
          "output_type": "stream",
          "name": "stderr",
          "text": [
            "Loss=0.0002341804065508768 Batch_id=468 Accuracy=99.96: 100%|██████████| 469/469 [00:21<00:00, 22.03it/s]\n"
          ]
        },
        {
          "output_type": "stream",
          "name": "stdout",
          "text": [
            "\n",
            "Test set: Average loss: 0.0282, Accuracy: 9936/10000 (99.36%)\n",
            "\n",
            "EPOCH: 18\n"
          ]
        },
        {
          "output_type": "stream",
          "name": "stderr",
          "text": [
            "Loss=0.0012386600719764829 Batch_id=468 Accuracy=99.95: 100%|██████████| 469/469 [00:20<00:00, 23.23it/s]\n"
          ]
        },
        {
          "output_type": "stream",
          "name": "stdout",
          "text": [
            "\n",
            "Test set: Average loss: 0.0302, Accuracy: 9928/10000 (99.28%)\n",
            "\n",
            "EPOCH: 19\n"
          ]
        },
        {
          "output_type": "stream",
          "name": "stderr",
          "text": [
            "Loss=1.492558112659026e-06 Batch_id=468 Accuracy=99.99: 100%|██████████| 469/469 [00:21<00:00, 22.15it/s]\n"
          ]
        },
        {
          "output_type": "stream",
          "name": "stdout",
          "text": [
            "\n",
            "Test set: Average loss: 0.0303, Accuracy: 9934/10000 (99.34%)\n",
            "\n"
          ]
        }
      ]
    },
    {
      "cell_type": "code",
      "source": [
        "train_losses"
      ],
      "metadata": {
        "colab": {
          "base_uri": "https://localhost:8080/"
        },
        "id": "RrMn9jkmuDCW",
        "outputId": "0e519997-bc62-4bd2-8913-46a8e2648bfa"
      },
      "execution_count": null,
      "outputs": [
        {
          "output_type": "execute_result",
          "data": {
            "text/plain": [
              "[tensor(2.3017, device='cuda:0', grad_fn=<NllLossBackward0>),\n",
              " tensor(2.3031, device='cuda:0', grad_fn=<NllLossBackward0>),\n",
              " tensor(2.3029, device='cuda:0', grad_fn=<NllLossBackward0>),\n",
              " tensor(2.3023, device='cuda:0', grad_fn=<NllLossBackward0>),\n",
              " tensor(2.3017, device='cuda:0', grad_fn=<NllLossBackward0>),\n",
              " tensor(2.2997, device='cuda:0', grad_fn=<NllLossBackward0>),\n",
              " tensor(2.3009, device='cuda:0', grad_fn=<NllLossBackward0>),\n",
              " tensor(2.2987, device='cuda:0', grad_fn=<NllLossBackward0>),\n",
              " tensor(2.2978, device='cuda:0', grad_fn=<NllLossBackward0>),\n",
              " tensor(2.2964, device='cuda:0', grad_fn=<NllLossBackward0>),\n",
              " tensor(2.2973, device='cuda:0', grad_fn=<NllLossBackward0>),\n",
              " tensor(2.2921, device='cuda:0', grad_fn=<NllLossBackward0>),\n",
              " tensor(2.2912, device='cuda:0', grad_fn=<NllLossBackward0>),\n",
              " tensor(2.2936, device='cuda:0', grad_fn=<NllLossBackward0>),\n",
              " tensor(2.2912, device='cuda:0', grad_fn=<NllLossBackward0>),\n",
              " tensor(2.2883, device='cuda:0', grad_fn=<NllLossBackward0>),\n",
              " tensor(2.2890, device='cuda:0', grad_fn=<NllLossBackward0>),\n",
              " tensor(2.2833, device='cuda:0', grad_fn=<NllLossBackward0>),\n",
              " tensor(2.2869, device='cuda:0', grad_fn=<NllLossBackward0>),\n",
              " tensor(2.2879, device='cuda:0', grad_fn=<NllLossBackward0>),\n",
              " tensor(2.2867, device='cuda:0', grad_fn=<NllLossBackward0>),\n",
              " tensor(2.2794, device='cuda:0', grad_fn=<NllLossBackward0>),\n",
              " tensor(2.2727, device='cuda:0', grad_fn=<NllLossBackward0>),\n",
              " tensor(2.2695, device='cuda:0', grad_fn=<NllLossBackward0>),\n",
              " tensor(2.2696, device='cuda:0', grad_fn=<NllLossBackward0>),\n",
              " tensor(2.2647, device='cuda:0', grad_fn=<NllLossBackward0>),\n",
              " tensor(2.2660, device='cuda:0', grad_fn=<NllLossBackward0>),\n",
              " tensor(2.2716, device='cuda:0', grad_fn=<NllLossBackward0>),\n",
              " tensor(2.2394, device='cuda:0', grad_fn=<NllLossBackward0>),\n",
              " tensor(2.2451, device='cuda:0', grad_fn=<NllLossBackward0>),\n",
              " tensor(2.2322, device='cuda:0', grad_fn=<NllLossBackward0>),\n",
              " tensor(2.2143, device='cuda:0', grad_fn=<NllLossBackward0>),\n",
              " tensor(2.1959, device='cuda:0', grad_fn=<NllLossBackward0>),\n",
              " tensor(2.1854, device='cuda:0', grad_fn=<NllLossBackward0>),\n",
              " tensor(2.1601, device='cuda:0', grad_fn=<NllLossBackward0>),\n",
              " tensor(2.1201, device='cuda:0', grad_fn=<NllLossBackward0>),\n",
              " tensor(2.1235, device='cuda:0', grad_fn=<NllLossBackward0>),\n",
              " tensor(2.0537, device='cuda:0', grad_fn=<NllLossBackward0>),\n",
              " tensor(1.9767, device='cuda:0', grad_fn=<NllLossBackward0>),\n",
              " tensor(1.8391, device='cuda:0', grad_fn=<NllLossBackward0>),\n",
              " tensor(1.7797, device='cuda:0', grad_fn=<NllLossBackward0>),\n",
              " tensor(1.6066, device='cuda:0', grad_fn=<NllLossBackward0>),\n",
              " tensor(1.4733, device='cuda:0', grad_fn=<NllLossBackward0>),\n",
              " tensor(1.2462, device='cuda:0', grad_fn=<NllLossBackward0>),\n",
              " tensor(1.2161, device='cuda:0', grad_fn=<NllLossBackward0>),\n",
              " tensor(0.9700, device='cuda:0', grad_fn=<NllLossBackward0>),\n",
              " tensor(1.7728, device='cuda:0', grad_fn=<NllLossBackward0>),\n",
              " tensor(1.6099, device='cuda:0', grad_fn=<NllLossBackward0>),\n",
              " tensor(1.6225, device='cuda:0', grad_fn=<NllLossBackward0>),\n",
              " tensor(1.2694, device='cuda:0', grad_fn=<NllLossBackward0>),\n",
              " tensor(1.3795, device='cuda:0', grad_fn=<NllLossBackward0>),\n",
              " tensor(1.2932, device='cuda:0', grad_fn=<NllLossBackward0>),\n",
              " tensor(1.1571, device='cuda:0', grad_fn=<NllLossBackward0>),\n",
              " tensor(0.8804, device='cuda:0', grad_fn=<NllLossBackward0>),\n",
              " tensor(0.7325, device='cuda:0', grad_fn=<NllLossBackward0>),\n",
              " tensor(0.5766, device='cuda:0', grad_fn=<NllLossBackward0>),\n",
              " tensor(0.6660, device='cuda:0', grad_fn=<NllLossBackward0>),\n",
              " tensor(0.6990, device='cuda:0', grad_fn=<NllLossBackward0>),\n",
              " tensor(0.8783, device='cuda:0', grad_fn=<NllLossBackward0>),\n",
              " tensor(1.7058, device='cuda:0', grad_fn=<NllLossBackward0>),\n",
              " tensor(1.4005, device='cuda:0', grad_fn=<NllLossBackward0>),\n",
              " tensor(1.0583, device='cuda:0', grad_fn=<NllLossBackward0>),\n",
              " tensor(0.9190, device='cuda:0', grad_fn=<NllLossBackward0>),\n",
              " tensor(1.0533, device='cuda:0', grad_fn=<NllLossBackward0>),\n",
              " tensor(1.0997, device='cuda:0', grad_fn=<NllLossBackward0>),\n",
              " tensor(1.0225, device='cuda:0', grad_fn=<NllLossBackward0>),\n",
              " tensor(0.8526, device='cuda:0', grad_fn=<NllLossBackward0>),\n",
              " tensor(0.6226, device='cuda:0', grad_fn=<NllLossBackward0>),\n",
              " tensor(0.5293, device='cuda:0', grad_fn=<NllLossBackward0>),\n",
              " tensor(0.5073, device='cuda:0', grad_fn=<NllLossBackward0>),\n",
              " tensor(0.4585, device='cuda:0', grad_fn=<NllLossBackward0>),\n",
              " tensor(0.5133, device='cuda:0', grad_fn=<NllLossBackward0>),\n",
              " tensor(0.7091, device='cuda:0', grad_fn=<NllLossBackward0>),\n",
              " tensor(0.5926, device='cuda:0', grad_fn=<NllLossBackward0>),\n",
              " tensor(0.7015, device='cuda:0', grad_fn=<NllLossBackward0>),\n",
              " tensor(0.6666, device='cuda:0', grad_fn=<NllLossBackward0>),\n",
              " tensor(0.4147, device='cuda:0', grad_fn=<NllLossBackward0>),\n",
              " tensor(0.6787, device='cuda:0', grad_fn=<NllLossBackward0>),\n",
              " tensor(0.5541, device='cuda:0', grad_fn=<NllLossBackward0>),\n",
              " tensor(0.3308, device='cuda:0', grad_fn=<NllLossBackward0>),\n",
              " tensor(0.5109, device='cuda:0', grad_fn=<NllLossBackward0>),\n",
              " tensor(0.5278, device='cuda:0', grad_fn=<NllLossBackward0>),\n",
              " tensor(0.4731, device='cuda:0', grad_fn=<NllLossBackward0>),\n",
              " tensor(0.4186, device='cuda:0', grad_fn=<NllLossBackward0>),\n",
              " tensor(0.3945, device='cuda:0', grad_fn=<NllLossBackward0>),\n",
              " tensor(0.4328, device='cuda:0', grad_fn=<NllLossBackward0>),\n",
              " tensor(0.4493, device='cuda:0', grad_fn=<NllLossBackward0>),\n",
              " tensor(0.3218, device='cuda:0', grad_fn=<NllLossBackward0>),\n",
              " tensor(0.3294, device='cuda:0', grad_fn=<NllLossBackward0>),\n",
              " tensor(0.4839, device='cuda:0', grad_fn=<NllLossBackward0>),\n",
              " tensor(0.3504, device='cuda:0', grad_fn=<NllLossBackward0>),\n",
              " tensor(0.4219, device='cuda:0', grad_fn=<NllLossBackward0>),\n",
              " tensor(0.2784, device='cuda:0', grad_fn=<NllLossBackward0>),\n",
              " tensor(0.2291, device='cuda:0', grad_fn=<NllLossBackward0>),\n",
              " tensor(0.2040, device='cuda:0', grad_fn=<NllLossBackward0>),\n",
              " tensor(0.3992, device='cuda:0', grad_fn=<NllLossBackward0>),\n",
              " tensor(0.4382, device='cuda:0', grad_fn=<NllLossBackward0>),\n",
              " tensor(0.3328, device='cuda:0', grad_fn=<NllLossBackward0>),\n",
              " tensor(0.3648, device='cuda:0', grad_fn=<NllLossBackward0>),\n",
              " tensor(0.2544, device='cuda:0', grad_fn=<NllLossBackward0>),\n",
              " tensor(0.3047, device='cuda:0', grad_fn=<NllLossBackward0>),\n",
              " tensor(0.2816, device='cuda:0', grad_fn=<NllLossBackward0>),\n",
              " tensor(0.2609, device='cuda:0', grad_fn=<NllLossBackward0>),\n",
              " tensor(0.1906, device='cuda:0', grad_fn=<NllLossBackward0>),\n",
              " tensor(0.2133, device='cuda:0', grad_fn=<NllLossBackward0>),\n",
              " tensor(0.3710, device='cuda:0', grad_fn=<NllLossBackward0>),\n",
              " tensor(0.2301, device='cuda:0', grad_fn=<NllLossBackward0>),\n",
              " tensor(0.2277, device='cuda:0', grad_fn=<NllLossBackward0>),\n",
              " tensor(0.2315, device='cuda:0', grad_fn=<NllLossBackward0>),\n",
              " tensor(0.2982, device='cuda:0', grad_fn=<NllLossBackward0>),\n",
              " tensor(0.2603, device='cuda:0', grad_fn=<NllLossBackward0>),\n",
              " tensor(0.2822, device='cuda:0', grad_fn=<NllLossBackward0>),\n",
              " tensor(0.2255, device='cuda:0', grad_fn=<NllLossBackward0>),\n",
              " tensor(0.1995, device='cuda:0', grad_fn=<NllLossBackward0>),\n",
              " tensor(0.2657, device='cuda:0', grad_fn=<NllLossBackward0>),\n",
              " tensor(0.1783, device='cuda:0', grad_fn=<NllLossBackward0>),\n",
              " tensor(0.1882, device='cuda:0', grad_fn=<NllLossBackward0>),\n",
              " tensor(0.3082, device='cuda:0', grad_fn=<NllLossBackward0>),\n",
              " tensor(0.1633, device='cuda:0', grad_fn=<NllLossBackward0>),\n",
              " tensor(0.1405, device='cuda:0', grad_fn=<NllLossBackward0>),\n",
              " tensor(0.2106, device='cuda:0', grad_fn=<NllLossBackward0>),\n",
              " tensor(0.2234, device='cuda:0', grad_fn=<NllLossBackward0>),\n",
              " tensor(0.2429, device='cuda:0', grad_fn=<NllLossBackward0>),\n",
              " tensor(0.2433, device='cuda:0', grad_fn=<NllLossBackward0>),\n",
              " tensor(0.2071, device='cuda:0', grad_fn=<NllLossBackward0>),\n",
              " tensor(0.1918, device='cuda:0', grad_fn=<NllLossBackward0>),\n",
              " tensor(0.2642, device='cuda:0', grad_fn=<NllLossBackward0>),\n",
              " tensor(0.1369, device='cuda:0', grad_fn=<NllLossBackward0>),\n",
              " tensor(0.3280, device='cuda:0', grad_fn=<NllLossBackward0>),\n",
              " tensor(0.1692, device='cuda:0', grad_fn=<NllLossBackward0>),\n",
              " tensor(0.2386, device='cuda:0', grad_fn=<NllLossBackward0>),\n",
              " tensor(0.3241, device='cuda:0', grad_fn=<NllLossBackward0>),\n",
              " tensor(0.1662, device='cuda:0', grad_fn=<NllLossBackward0>),\n",
              " tensor(0.1961, device='cuda:0', grad_fn=<NllLossBackward0>),\n",
              " tensor(0.1562, device='cuda:0', grad_fn=<NllLossBackward0>),\n",
              " tensor(0.1780, device='cuda:0', grad_fn=<NllLossBackward0>),\n",
              " tensor(0.1519, device='cuda:0', grad_fn=<NllLossBackward0>),\n",
              " tensor(0.1098, device='cuda:0', grad_fn=<NllLossBackward0>),\n",
              " tensor(0.1901, device='cuda:0', grad_fn=<NllLossBackward0>),\n",
              " tensor(0.1509, device='cuda:0', grad_fn=<NllLossBackward0>),\n",
              " tensor(0.2257, device='cuda:0', grad_fn=<NllLossBackward0>),\n",
              " tensor(0.2206, device='cuda:0', grad_fn=<NllLossBackward0>),\n",
              " tensor(0.1399, device='cuda:0', grad_fn=<NllLossBackward0>),\n",
              " tensor(0.3302, device='cuda:0', grad_fn=<NllLossBackward0>),\n",
              " tensor(0.3123, device='cuda:0', grad_fn=<NllLossBackward0>),\n",
              " tensor(0.2246, device='cuda:0', grad_fn=<NllLossBackward0>),\n",
              " tensor(0.2256, device='cuda:0', grad_fn=<NllLossBackward0>),\n",
              " tensor(0.1706, device='cuda:0', grad_fn=<NllLossBackward0>),\n",
              " tensor(0.2047, device='cuda:0', grad_fn=<NllLossBackward0>),\n",
              " tensor(0.2163, device='cuda:0', grad_fn=<NllLossBackward0>),\n",
              " tensor(0.1828, device='cuda:0', grad_fn=<NllLossBackward0>),\n",
              " tensor(0.1191, device='cuda:0', grad_fn=<NllLossBackward0>),\n",
              " tensor(0.1493, device='cuda:0', grad_fn=<NllLossBackward0>),\n",
              " tensor(0.1711, device='cuda:0', grad_fn=<NllLossBackward0>),\n",
              " tensor(0.1561, device='cuda:0', grad_fn=<NllLossBackward0>),\n",
              " tensor(0.3076, device='cuda:0', grad_fn=<NllLossBackward0>),\n",
              " tensor(0.1575, device='cuda:0', grad_fn=<NllLossBackward0>),\n",
              " tensor(0.1269, device='cuda:0', grad_fn=<NllLossBackward0>),\n",
              " tensor(0.1468, device='cuda:0', grad_fn=<NllLossBackward0>),\n",
              " tensor(0.1230, device='cuda:0', grad_fn=<NllLossBackward0>),\n",
              " tensor(0.1241, device='cuda:0', grad_fn=<NllLossBackward0>),\n",
              " tensor(0.1401, device='cuda:0', grad_fn=<NllLossBackward0>),\n",
              " tensor(0.1587, device='cuda:0', grad_fn=<NllLossBackward0>),\n",
              " tensor(0.1165, device='cuda:0', grad_fn=<NllLossBackward0>),\n",
              " tensor(0.1186, device='cuda:0', grad_fn=<NllLossBackward0>),\n",
              " tensor(0.1944, device='cuda:0', grad_fn=<NllLossBackward0>),\n",
              " tensor(0.1229, device='cuda:0', grad_fn=<NllLossBackward0>),\n",
              " tensor(0.0980, device='cuda:0', grad_fn=<NllLossBackward0>),\n",
              " tensor(0.1055, device='cuda:0', grad_fn=<NllLossBackward0>),\n",
              " tensor(0.1635, device='cuda:0', grad_fn=<NllLossBackward0>),\n",
              " tensor(0.2880, device='cuda:0', grad_fn=<NllLossBackward0>),\n",
              " tensor(0.1290, device='cuda:0', grad_fn=<NllLossBackward0>),\n",
              " tensor(0.1565, device='cuda:0', grad_fn=<NllLossBackward0>),\n",
              " tensor(0.1673, device='cuda:0', grad_fn=<NllLossBackward0>),\n",
              " tensor(0.1917, device='cuda:0', grad_fn=<NllLossBackward0>),\n",
              " tensor(0.2034, device='cuda:0', grad_fn=<NllLossBackward0>),\n",
              " tensor(0.1961, device='cuda:0', grad_fn=<NllLossBackward0>),\n",
              " tensor(0.0661, device='cuda:0', grad_fn=<NllLossBackward0>),\n",
              " tensor(0.1972, device='cuda:0', grad_fn=<NllLossBackward0>),\n",
              " tensor(0.1994, device='cuda:0', grad_fn=<NllLossBackward0>),\n",
              " tensor(0.2917, device='cuda:0', grad_fn=<NllLossBackward0>),\n",
              " tensor(0.1575, device='cuda:0', grad_fn=<NllLossBackward0>),\n",
              " tensor(0.1529, device='cuda:0', grad_fn=<NllLossBackward0>),\n",
              " tensor(0.1041, device='cuda:0', grad_fn=<NllLossBackward0>),\n",
              " tensor(0.0854, device='cuda:0', grad_fn=<NllLossBackward0>),\n",
              " tensor(0.1079, device='cuda:0', grad_fn=<NllLossBackward0>),\n",
              " tensor(0.1533, device='cuda:0', grad_fn=<NllLossBackward0>),\n",
              " tensor(0.1552, device='cuda:0', grad_fn=<NllLossBackward0>),\n",
              " tensor(0.1427, device='cuda:0', grad_fn=<NllLossBackward0>),\n",
              " tensor(0.1219, device='cuda:0', grad_fn=<NllLossBackward0>),\n",
              " tensor(0.1399, device='cuda:0', grad_fn=<NllLossBackward0>),\n",
              " tensor(0.1215, device='cuda:0', grad_fn=<NllLossBackward0>),\n",
              " tensor(0.1687, device='cuda:0', grad_fn=<NllLossBackward0>),\n",
              " tensor(0.1871, device='cuda:0', grad_fn=<NllLossBackward0>),\n",
              " tensor(0.2230, device='cuda:0', grad_fn=<NllLossBackward0>),\n",
              " tensor(0.1476, device='cuda:0', grad_fn=<NllLossBackward0>),\n",
              " tensor(0.1364, device='cuda:0', grad_fn=<NllLossBackward0>),\n",
              " tensor(0.1187, device='cuda:0', grad_fn=<NllLossBackward0>),\n",
              " tensor(0.0443, device='cuda:0', grad_fn=<NllLossBackward0>),\n",
              " tensor(0.1589, device='cuda:0', grad_fn=<NllLossBackward0>),\n",
              " tensor(0.0508, device='cuda:0', grad_fn=<NllLossBackward0>),\n",
              " tensor(0.1469, device='cuda:0', grad_fn=<NllLossBackward0>),\n",
              " tensor(0.0876, device='cuda:0', grad_fn=<NllLossBackward0>),\n",
              " tensor(0.1374, device='cuda:0', grad_fn=<NllLossBackward0>),\n",
              " tensor(0.0679, device='cuda:0', grad_fn=<NllLossBackward0>),\n",
              " tensor(0.1836, device='cuda:0', grad_fn=<NllLossBackward0>),\n",
              " tensor(0.0786, device='cuda:0', grad_fn=<NllLossBackward0>),\n",
              " tensor(0.1186, device='cuda:0', grad_fn=<NllLossBackward0>),\n",
              " tensor(0.0924, device='cuda:0', grad_fn=<NllLossBackward0>),\n",
              " tensor(0.1033, device='cuda:0', grad_fn=<NllLossBackward0>),\n",
              " tensor(0.1099, device='cuda:0', grad_fn=<NllLossBackward0>),\n",
              " tensor(0.1369, device='cuda:0', grad_fn=<NllLossBackward0>),\n",
              " tensor(0.0383, device='cuda:0', grad_fn=<NllLossBackward0>),\n",
              " tensor(0.1047, device='cuda:0', grad_fn=<NllLossBackward0>),\n",
              " tensor(0.2853, device='cuda:0', grad_fn=<NllLossBackward0>),\n",
              " tensor(0.0533, device='cuda:0', grad_fn=<NllLossBackward0>),\n",
              " tensor(0.2387, device='cuda:0', grad_fn=<NllLossBackward0>),\n",
              " tensor(0.0986, device='cuda:0', grad_fn=<NllLossBackward0>),\n",
              " tensor(0.0618, device='cuda:0', grad_fn=<NllLossBackward0>),\n",
              " tensor(0.1002, device='cuda:0', grad_fn=<NllLossBackward0>),\n",
              " tensor(0.0592, device='cuda:0', grad_fn=<NllLossBackward0>),\n",
              " tensor(0.2270, device='cuda:0', grad_fn=<NllLossBackward0>),\n",
              " tensor(0.2207, device='cuda:0', grad_fn=<NllLossBackward0>),\n",
              " tensor(0.1620, device='cuda:0', grad_fn=<NllLossBackward0>),\n",
              " tensor(0.1939, device='cuda:0', grad_fn=<NllLossBackward0>),\n",
              " tensor(0.1356, device='cuda:0', grad_fn=<NllLossBackward0>),\n",
              " tensor(0.0937, device='cuda:0', grad_fn=<NllLossBackward0>),\n",
              " tensor(0.1434, device='cuda:0', grad_fn=<NllLossBackward0>),\n",
              " tensor(0.0637, device='cuda:0', grad_fn=<NllLossBackward0>),\n",
              " tensor(0.2101, device='cuda:0', grad_fn=<NllLossBackward0>),\n",
              " tensor(0.1594, device='cuda:0', grad_fn=<NllLossBackward0>),\n",
              " tensor(0.0676, device='cuda:0', grad_fn=<NllLossBackward0>),\n",
              " tensor(0.0808, device='cuda:0', grad_fn=<NllLossBackward0>),\n",
              " tensor(0.1336, device='cuda:0', grad_fn=<NllLossBackward0>),\n",
              " tensor(0.1426, device='cuda:0', grad_fn=<NllLossBackward0>),\n",
              " tensor(0.1319, device='cuda:0', grad_fn=<NllLossBackward0>),\n",
              " tensor(0.2041, device='cuda:0', grad_fn=<NllLossBackward0>),\n",
              " tensor(0.1066, device='cuda:0', grad_fn=<NllLossBackward0>),\n",
              " tensor(0.1084, device='cuda:0', grad_fn=<NllLossBackward0>),\n",
              " tensor(0.0724, device='cuda:0', grad_fn=<NllLossBackward0>),\n",
              " tensor(0.0733, device='cuda:0', grad_fn=<NllLossBackward0>),\n",
              " tensor(0.0872, device='cuda:0', grad_fn=<NllLossBackward0>),\n",
              " tensor(0.0846, device='cuda:0', grad_fn=<NllLossBackward0>),\n",
              " tensor(0.1223, device='cuda:0', grad_fn=<NllLossBackward0>),\n",
              " tensor(0.1848, device='cuda:0', grad_fn=<NllLossBackward0>),\n",
              " tensor(0.1747, device='cuda:0', grad_fn=<NllLossBackward0>),\n",
              " tensor(0.0706, device='cuda:0', grad_fn=<NllLossBackward0>),\n",
              " tensor(0.1140, device='cuda:0', grad_fn=<NllLossBackward0>),\n",
              " tensor(0.0698, device='cuda:0', grad_fn=<NllLossBackward0>),\n",
              " tensor(0.0832, device='cuda:0', grad_fn=<NllLossBackward0>),\n",
              " tensor(0.1799, device='cuda:0', grad_fn=<NllLossBackward0>),\n",
              " tensor(0.0664, device='cuda:0', grad_fn=<NllLossBackward0>),\n",
              " tensor(0.1327, device='cuda:0', grad_fn=<NllLossBackward0>),\n",
              " tensor(0.1067, device='cuda:0', grad_fn=<NllLossBackward0>),\n",
              " tensor(0.0651, device='cuda:0', grad_fn=<NllLossBackward0>),\n",
              " tensor(0.0751, device='cuda:0', grad_fn=<NllLossBackward0>),\n",
              " tensor(0.1003, device='cuda:0', grad_fn=<NllLossBackward0>),\n",
              " tensor(0.1892, device='cuda:0', grad_fn=<NllLossBackward0>),\n",
              " tensor(0.3820, device='cuda:0', grad_fn=<NllLossBackward0>),\n",
              " tensor(0.0688, device='cuda:0', grad_fn=<NllLossBackward0>),\n",
              " tensor(0.1810, device='cuda:0', grad_fn=<NllLossBackward0>),\n",
              " tensor(0.0998, device='cuda:0', grad_fn=<NllLossBackward0>),\n",
              " tensor(0.1344, device='cuda:0', grad_fn=<NllLossBackward0>),\n",
              " tensor(0.0830, device='cuda:0', grad_fn=<NllLossBackward0>),\n",
              " tensor(0.0686, device='cuda:0', grad_fn=<NllLossBackward0>),\n",
              " tensor(0.1871, device='cuda:0', grad_fn=<NllLossBackward0>),\n",
              " tensor(0.1163, device='cuda:0', grad_fn=<NllLossBackward0>),\n",
              " tensor(0.1065, device='cuda:0', grad_fn=<NllLossBackward0>),\n",
              " tensor(0.1505, device='cuda:0', grad_fn=<NllLossBackward0>),\n",
              " tensor(0.0880, device='cuda:0', grad_fn=<NllLossBackward0>),\n",
              " tensor(0.0676, device='cuda:0', grad_fn=<NllLossBackward0>),\n",
              " tensor(0.1369, device='cuda:0', grad_fn=<NllLossBackward0>),\n",
              " tensor(0.0713, device='cuda:0', grad_fn=<NllLossBackward0>),\n",
              " tensor(0.0439, device='cuda:0', grad_fn=<NllLossBackward0>),\n",
              " tensor(0.0939, device='cuda:0', grad_fn=<NllLossBackward0>),\n",
              " tensor(0.0989, device='cuda:0', grad_fn=<NllLossBackward0>),\n",
              " tensor(0.0586, device='cuda:0', grad_fn=<NllLossBackward0>),\n",
              " tensor(0.1520, device='cuda:0', grad_fn=<NllLossBackward0>),\n",
              " tensor(0.1258, device='cuda:0', grad_fn=<NllLossBackward0>),\n",
              " tensor(0.1419, device='cuda:0', grad_fn=<NllLossBackward0>),\n",
              " tensor(0.1814, device='cuda:0', grad_fn=<NllLossBackward0>),\n",
              " tensor(0.1644, device='cuda:0', grad_fn=<NllLossBackward0>),\n",
              " tensor(0.0721, device='cuda:0', grad_fn=<NllLossBackward0>),\n",
              " tensor(0.1483, device='cuda:0', grad_fn=<NllLossBackward0>),\n",
              " tensor(0.1016, device='cuda:0', grad_fn=<NllLossBackward0>),\n",
              " tensor(0.0489, device='cuda:0', grad_fn=<NllLossBackward0>),\n",
              " tensor(0.0596, device='cuda:0', grad_fn=<NllLossBackward0>),\n",
              " tensor(0.0453, device='cuda:0', grad_fn=<NllLossBackward0>),\n",
              " tensor(0.0849, device='cuda:0', grad_fn=<NllLossBackward0>),\n",
              " tensor(0.1247, device='cuda:0', grad_fn=<NllLossBackward0>),\n",
              " tensor(0.0740, device='cuda:0', grad_fn=<NllLossBackward0>),\n",
              " tensor(0.0646, device='cuda:0', grad_fn=<NllLossBackward0>),\n",
              " tensor(0.0768, device='cuda:0', grad_fn=<NllLossBackward0>),\n",
              " tensor(0.1919, device='cuda:0', grad_fn=<NllLossBackward0>),\n",
              " tensor(0.1751, device='cuda:0', grad_fn=<NllLossBackward0>),\n",
              " tensor(0.1432, device='cuda:0', grad_fn=<NllLossBackward0>),\n",
              " tensor(0.1171, device='cuda:0', grad_fn=<NllLossBackward0>),\n",
              " tensor(0.2716, device='cuda:0', grad_fn=<NllLossBackward0>),\n",
              " tensor(0.0860, device='cuda:0', grad_fn=<NllLossBackward0>),\n",
              " tensor(0.0935, device='cuda:0', grad_fn=<NllLossBackward0>),\n",
              " tensor(0.0988, device='cuda:0', grad_fn=<NllLossBackward0>),\n",
              " tensor(0.0811, device='cuda:0', grad_fn=<NllLossBackward0>),\n",
              " tensor(0.1221, device='cuda:0', grad_fn=<NllLossBackward0>),\n",
              " tensor(0.0596, device='cuda:0', grad_fn=<NllLossBackward0>),\n",
              " tensor(0.0499, device='cuda:0', grad_fn=<NllLossBackward0>),\n",
              " tensor(0.1776, device='cuda:0', grad_fn=<NllLossBackward0>),\n",
              " tensor(0.0818, device='cuda:0', grad_fn=<NllLossBackward0>),\n",
              " tensor(0.0869, device='cuda:0', grad_fn=<NllLossBackward0>),\n",
              " tensor(0.1389, device='cuda:0', grad_fn=<NllLossBackward0>),\n",
              " tensor(0.0579, device='cuda:0', grad_fn=<NllLossBackward0>),\n",
              " tensor(0.0784, device='cuda:0', grad_fn=<NllLossBackward0>),\n",
              " tensor(0.0887, device='cuda:0', grad_fn=<NllLossBackward0>),\n",
              " tensor(0.0332, device='cuda:0', grad_fn=<NllLossBackward0>),\n",
              " tensor(0.1031, device='cuda:0', grad_fn=<NllLossBackward0>),\n",
              " tensor(0.0699, device='cuda:0', grad_fn=<NllLossBackward0>),\n",
              " tensor(0.1481, device='cuda:0', grad_fn=<NllLossBackward0>),\n",
              " tensor(0.0666, device='cuda:0', grad_fn=<NllLossBackward0>),\n",
              " tensor(0.1766, device='cuda:0', grad_fn=<NllLossBackward0>),\n",
              " tensor(0.1354, device='cuda:0', grad_fn=<NllLossBackward0>),\n",
              " tensor(0.0924, device='cuda:0', grad_fn=<NllLossBackward0>),\n",
              " tensor(0.0693, device='cuda:0', grad_fn=<NllLossBackward0>),\n",
              " tensor(0.0385, device='cuda:0', grad_fn=<NllLossBackward0>),\n",
              " tensor(0.0646, device='cuda:0', grad_fn=<NllLossBackward0>),\n",
              " tensor(0.0693, device='cuda:0', grad_fn=<NllLossBackward0>),\n",
              " tensor(0.0508, device='cuda:0', grad_fn=<NllLossBackward0>),\n",
              " tensor(0.0942, device='cuda:0', grad_fn=<NllLossBackward0>),\n",
              " tensor(0.1357, device='cuda:0', grad_fn=<NllLossBackward0>),\n",
              " tensor(0.0415, device='cuda:0', grad_fn=<NllLossBackward0>),\n",
              " tensor(0.0857, device='cuda:0', grad_fn=<NllLossBackward0>),\n",
              " tensor(0.0738, device='cuda:0', grad_fn=<NllLossBackward0>),\n",
              " tensor(0.1298, device='cuda:0', grad_fn=<NllLossBackward0>),\n",
              " tensor(0.0923, device='cuda:0', grad_fn=<NllLossBackward0>),\n",
              " tensor(0.0831, device='cuda:0', grad_fn=<NllLossBackward0>),\n",
              " tensor(0.1011, device='cuda:0', grad_fn=<NllLossBackward0>),\n",
              " tensor(0.0601, device='cuda:0', grad_fn=<NllLossBackward0>),\n",
              " tensor(0.0434, device='cuda:0', grad_fn=<NllLossBackward0>),\n",
              " tensor(0.0496, device='cuda:0', grad_fn=<NllLossBackward0>),\n",
              " tensor(0.1219, device='cuda:0', grad_fn=<NllLossBackward0>),\n",
              " tensor(0.1127, device='cuda:0', grad_fn=<NllLossBackward0>),\n",
              " tensor(0.0374, device='cuda:0', grad_fn=<NllLossBackward0>),\n",
              " tensor(0.0783, device='cuda:0', grad_fn=<NllLossBackward0>),\n",
              " tensor(0.0928, device='cuda:0', grad_fn=<NllLossBackward0>),\n",
              " tensor(0.1133, device='cuda:0', grad_fn=<NllLossBackward0>),\n",
              " tensor(0.2473, device='cuda:0', grad_fn=<NllLossBackward0>),\n",
              " tensor(0.0756, device='cuda:0', grad_fn=<NllLossBackward0>),\n",
              " tensor(0.0634, device='cuda:0', grad_fn=<NllLossBackward0>),\n",
              " tensor(0.0627, device='cuda:0', grad_fn=<NllLossBackward0>),\n",
              " tensor(0.0856, device='cuda:0', grad_fn=<NllLossBackward0>),\n",
              " tensor(0.0557, device='cuda:0', grad_fn=<NllLossBackward0>),\n",
              " tensor(0.1570, device='cuda:0', grad_fn=<NllLossBackward0>),\n",
              " tensor(0.1215, device='cuda:0', grad_fn=<NllLossBackward0>),\n",
              " tensor(0.0687, device='cuda:0', grad_fn=<NllLossBackward0>),\n",
              " tensor(0.0156, device='cuda:0', grad_fn=<NllLossBackward0>),\n",
              " tensor(0.1284, device='cuda:0', grad_fn=<NllLossBackward0>),\n",
              " tensor(0.0250, device='cuda:0', grad_fn=<NllLossBackward0>),\n",
              " tensor(0.0660, device='cuda:0', grad_fn=<NllLossBackward0>),\n",
              " tensor(0.0415, device='cuda:0', grad_fn=<NllLossBackward0>),\n",
              " tensor(0.0760, device='cuda:0', grad_fn=<NllLossBackward0>),\n",
              " tensor(0.1981, device='cuda:0', grad_fn=<NllLossBackward0>),\n",
              " tensor(0.0157, device='cuda:0', grad_fn=<NllLossBackward0>),\n",
              " tensor(0.0770, device='cuda:0', grad_fn=<NllLossBackward0>),\n",
              " tensor(0.1149, device='cuda:0', grad_fn=<NllLossBackward0>),\n",
              " tensor(0.1253, device='cuda:0', grad_fn=<NllLossBackward0>),\n",
              " tensor(0.0447, device='cuda:0', grad_fn=<NllLossBackward0>),\n",
              " tensor(0.0362, device='cuda:0', grad_fn=<NllLossBackward0>),\n",
              " tensor(0.0489, device='cuda:0', grad_fn=<NllLossBackward0>),\n",
              " tensor(0.1056, device='cuda:0', grad_fn=<NllLossBackward0>),\n",
              " tensor(0.1104, device='cuda:0', grad_fn=<NllLossBackward0>),\n",
              " tensor(0.0553, device='cuda:0', grad_fn=<NllLossBackward0>),\n",
              " tensor(0.0439, device='cuda:0', grad_fn=<NllLossBackward0>),\n",
              " tensor(0.0699, device='cuda:0', grad_fn=<NllLossBackward0>),\n",
              " tensor(0.0786, device='cuda:0', grad_fn=<NllLossBackward0>),\n",
              " tensor(0.0581, device='cuda:0', grad_fn=<NllLossBackward0>),\n",
              " tensor(0.0308, device='cuda:0', grad_fn=<NllLossBackward0>),\n",
              " tensor(0.0763, device='cuda:0', grad_fn=<NllLossBackward0>),\n",
              " tensor(0.0675, device='cuda:0', grad_fn=<NllLossBackward0>),\n",
              " tensor(0.0283, device='cuda:0', grad_fn=<NllLossBackward0>),\n",
              " tensor(0.0856, device='cuda:0', grad_fn=<NllLossBackward0>),\n",
              " tensor(0.0207, device='cuda:0', grad_fn=<NllLossBackward0>),\n",
              " tensor(0.0699, device='cuda:0', grad_fn=<NllLossBackward0>),\n",
              " tensor(0.0366, device='cuda:0', grad_fn=<NllLossBackward0>),\n",
              " tensor(0.0515, device='cuda:0', grad_fn=<NllLossBackward0>),\n",
              " tensor(0.0478, device='cuda:0', grad_fn=<NllLossBackward0>),\n",
              " tensor(0.0328, device='cuda:0', grad_fn=<NllLossBackward0>),\n",
              " tensor(0.0540, device='cuda:0', grad_fn=<NllLossBackward0>),\n",
              " tensor(0.0958, device='cuda:0', grad_fn=<NllLossBackward0>),\n",
              " tensor(0.1159, device='cuda:0', grad_fn=<NllLossBackward0>),\n",
              " tensor(0.0197, device='cuda:0', grad_fn=<NllLossBackward0>),\n",
              " tensor(0.0845, device='cuda:0', grad_fn=<NllLossBackward0>),\n",
              " tensor(0.0942, device='cuda:0', grad_fn=<NllLossBackward0>),\n",
              " tensor(0.0272, device='cuda:0', grad_fn=<NllLossBackward0>),\n",
              " tensor(0.1141, device='cuda:0', grad_fn=<NllLossBackward0>),\n",
              " tensor(0.0520, device='cuda:0', grad_fn=<NllLossBackward0>),\n",
              " tensor(0.0586, device='cuda:0', grad_fn=<NllLossBackward0>),\n",
              " tensor(0.0909, device='cuda:0', grad_fn=<NllLossBackward0>),\n",
              " tensor(0.0651, device='cuda:0', grad_fn=<NllLossBackward0>),\n",
              " tensor(0.0742, device='cuda:0', grad_fn=<NllLossBackward0>),\n",
              " tensor(0.0833, device='cuda:0', grad_fn=<NllLossBackward0>),\n",
              " tensor(0.0699, device='cuda:0', grad_fn=<NllLossBackward0>),\n",
              " tensor(0.0716, device='cuda:0', grad_fn=<NllLossBackward0>),\n",
              " tensor(0.1061, device='cuda:0', grad_fn=<NllLossBackward0>),\n",
              " tensor(0.0578, device='cuda:0', grad_fn=<NllLossBackward0>),\n",
              " tensor(0.0831, device='cuda:0', grad_fn=<NllLossBackward0>),\n",
              " tensor(0.0850, device='cuda:0', grad_fn=<NllLossBackward0>),\n",
              " tensor(0.1498, device='cuda:0', grad_fn=<NllLossBackward0>),\n",
              " tensor(0.0474, device='cuda:0', grad_fn=<NllLossBackward0>),\n",
              " tensor(0.0441, device='cuda:0', grad_fn=<NllLossBackward0>),\n",
              " tensor(0.0938, device='cuda:0', grad_fn=<NllLossBackward0>),\n",
              " tensor(0.1247, device='cuda:0', grad_fn=<NllLossBackward0>),\n",
              " tensor(0.1127, device='cuda:0', grad_fn=<NllLossBackward0>),\n",
              " tensor(0.0958, device='cuda:0', grad_fn=<NllLossBackward0>),\n",
              " tensor(0.0938, device='cuda:0', grad_fn=<NllLossBackward0>),\n",
              " tensor(0.1806, device='cuda:0', grad_fn=<NllLossBackward0>),\n",
              " tensor(0.1307, device='cuda:0', grad_fn=<NllLossBackward0>),\n",
              " tensor(0.0975, device='cuda:0', grad_fn=<NllLossBackward0>),\n",
              " tensor(0.0432, device='cuda:0', grad_fn=<NllLossBackward0>),\n",
              " tensor(0.0822, device='cuda:0', grad_fn=<NllLossBackward0>),\n",
              " tensor(0.1236, device='cuda:0', grad_fn=<NllLossBackward0>),\n",
              " tensor(0.0522, device='cuda:0', grad_fn=<NllLossBackward0>),\n",
              " tensor(0.0796, device='cuda:0', grad_fn=<NllLossBackward0>),\n",
              " tensor(0.0623, device='cuda:0', grad_fn=<NllLossBackward0>),\n",
              " tensor(0.0995, device='cuda:0', grad_fn=<NllLossBackward0>),\n",
              " tensor(0.1027, device='cuda:0', grad_fn=<NllLossBackward0>),\n",
              " tensor(0.1499, device='cuda:0', grad_fn=<NllLossBackward0>),\n",
              " tensor(0.1812, device='cuda:0', grad_fn=<NllLossBackward0>),\n",
              " tensor(0.1009, device='cuda:0', grad_fn=<NllLossBackward0>),\n",
              " tensor(0.0900, device='cuda:0', grad_fn=<NllLossBackward0>),\n",
              " tensor(0.0452, device='cuda:0', grad_fn=<NllLossBackward0>),\n",
              " tensor(0.1152, device='cuda:0', grad_fn=<NllLossBackward0>),\n",
              " tensor(0.0729, device='cuda:0', grad_fn=<NllLossBackward0>),\n",
              " tensor(0.0759, device='cuda:0', grad_fn=<NllLossBackward0>),\n",
              " tensor(0.0520, device='cuda:0', grad_fn=<NllLossBackward0>),\n",
              " tensor(0.0618, device='cuda:0', grad_fn=<NllLossBackward0>),\n",
              " tensor(0.0705, device='cuda:0', grad_fn=<NllLossBackward0>),\n",
              " tensor(0.1204, device='cuda:0', grad_fn=<NllLossBackward0>),\n",
              " tensor(0.0998, device='cuda:0', grad_fn=<NllLossBackward0>),\n",
              " tensor(0.0895, device='cuda:0', grad_fn=<NllLossBackward0>),\n",
              " tensor(0.0519, device='cuda:0', grad_fn=<NllLossBackward0>),\n",
              " tensor(0.0361, device='cuda:0', grad_fn=<NllLossBackward0>),\n",
              " tensor(0.0494, device='cuda:0', grad_fn=<NllLossBackward0>),\n",
              " tensor(0.0933, device='cuda:0', grad_fn=<NllLossBackward0>),\n",
              " tensor(0.0275, device='cuda:0', grad_fn=<NllLossBackward0>),\n",
              " tensor(0.0479, device='cuda:0', grad_fn=<NllLossBackward0>),\n",
              " tensor(0.0561, device='cuda:0', grad_fn=<NllLossBackward0>),\n",
              " tensor(0.0441, device='cuda:0', grad_fn=<NllLossBackward0>),\n",
              " tensor(0.1158, device='cuda:0', grad_fn=<NllLossBackward0>),\n",
              " tensor(0.0583, device='cuda:0', grad_fn=<NllLossBackward0>),\n",
              " tensor(0.0262, device='cuda:0', grad_fn=<NllLossBackward0>),\n",
              " tensor(0.1222, device='cuda:0', grad_fn=<NllLossBackward0>),\n",
              " tensor(0.0352, device='cuda:0', grad_fn=<NllLossBackward0>),\n",
              " tensor(0.0532, device='cuda:0', grad_fn=<NllLossBackward0>),\n",
              " tensor(0.0383, device='cuda:0', grad_fn=<NllLossBackward0>),\n",
              " tensor(0.0531, device='cuda:0', grad_fn=<NllLossBackward0>),\n",
              " tensor(0.0127, device='cuda:0', grad_fn=<NllLossBackward0>),\n",
              " tensor(0.0769, device='cuda:0', grad_fn=<NllLossBackward0>),\n",
              " tensor(0.0532, device='cuda:0', grad_fn=<NllLossBackward0>),\n",
              " tensor(0.0692, device='cuda:0', grad_fn=<NllLossBackward0>),\n",
              " tensor(0.0196, device='cuda:0', grad_fn=<NllLossBackward0>),\n",
              " tensor(0.0839, device='cuda:0', grad_fn=<NllLossBackward0>),\n",
              " tensor(0.0258, device='cuda:0', grad_fn=<NllLossBackward0>),\n",
              " tensor(0.0443, device='cuda:0', grad_fn=<NllLossBackward0>),\n",
              " tensor(0.0376, device='cuda:0', grad_fn=<NllLossBackward0>),\n",
              " tensor(0.0208, device='cuda:0', grad_fn=<NllLossBackward0>),\n",
              " tensor(0.0877, device='cuda:0', grad_fn=<NllLossBackward0>),\n",
              " tensor(0.0570, device='cuda:0', grad_fn=<NllLossBackward0>),\n",
              " tensor(0.0362, device='cuda:0', grad_fn=<NllLossBackward0>),\n",
              " tensor(0.1042, device='cuda:0', grad_fn=<NllLossBackward0>),\n",
              " tensor(0.0382, device='cuda:0', grad_fn=<NllLossBackward0>),\n",
              " tensor(0.0525, device='cuda:0', grad_fn=<NllLossBackward0>),\n",
              " tensor(0.0378, device='cuda:0', grad_fn=<NllLossBackward0>),\n",
              " tensor(0.0941, device='cuda:0', grad_fn=<NllLossBackward0>),\n",
              " tensor(0.0329, device='cuda:0', grad_fn=<NllLossBackward0>),\n",
              " tensor(0.0533, device='cuda:0', grad_fn=<NllLossBackward0>),\n",
              " tensor(0.0231, device='cuda:0', grad_fn=<NllLossBackward0>),\n",
              " tensor(0.0397, device='cuda:0', grad_fn=<NllLossBackward0>),\n",
              " tensor(0.0878, device='cuda:0', grad_fn=<NllLossBackward0>),\n",
              " tensor(0.0741, device='cuda:0', grad_fn=<NllLossBackward0>),\n",
              " tensor(0.0998, device='cuda:0', grad_fn=<NllLossBackward0>),\n",
              " tensor(0.0469, device='cuda:0', grad_fn=<NllLossBackward0>),\n",
              " tensor(0.0227, device='cuda:0', grad_fn=<NllLossBackward0>),\n",
              " tensor(0.0263, device='cuda:0', grad_fn=<NllLossBackward0>),\n",
              " tensor(0.1132, device='cuda:0', grad_fn=<NllLossBackward0>),\n",
              " tensor(0.0527, device='cuda:0', grad_fn=<NllLossBackward0>),\n",
              " tensor(0.1177, device='cuda:0', grad_fn=<NllLossBackward0>),\n",
              " tensor(0.1036, device='cuda:0', grad_fn=<NllLossBackward0>),\n",
              " tensor(0.0220, device='cuda:0', grad_fn=<NllLossBackward0>),\n",
              " tensor(0.0437, device='cuda:0', grad_fn=<NllLossBackward0>),\n",
              " tensor(0.0992, device='cuda:0', grad_fn=<NllLossBackward0>),\n",
              " tensor(0.0717, device='cuda:0', grad_fn=<NllLossBackward0>),\n",
              " tensor(0.0730, device='cuda:0', grad_fn=<NllLossBackward0>),\n",
              " tensor(0.1401, device='cuda:0', grad_fn=<NllLossBackward0>),\n",
              " tensor(0.0805, device='cuda:0', grad_fn=<NllLossBackward0>),\n",
              " tensor(0.0221, device='cuda:0', grad_fn=<NllLossBackward0>),\n",
              " tensor(0.0437, device='cuda:0', grad_fn=<NllLossBackward0>),\n",
              " tensor(0.0197, device='cuda:0', grad_fn=<NllLossBackward0>),\n",
              " tensor(0.0663, device='cuda:0', grad_fn=<NllLossBackward0>),\n",
              " tensor(0.0683, device='cuda:0', grad_fn=<NllLossBackward0>),\n",
              " tensor(0.0275, device='cuda:0', grad_fn=<NllLossBackward0>),\n",
              " tensor(0.0250, device='cuda:0', grad_fn=<NllLossBackward0>),\n",
              " tensor(0.0767, device='cuda:0', grad_fn=<NllLossBackward0>),\n",
              " tensor(0.0508, device='cuda:0', grad_fn=<NllLossBackward0>),\n",
              " tensor(0.0489, device='cuda:0', grad_fn=<NllLossBackward0>),\n",
              " tensor(0.0511, device='cuda:0', grad_fn=<NllLossBackward0>),\n",
              " tensor(0.0254, device='cuda:0', grad_fn=<NllLossBackward0>),\n",
              " tensor(0.0400, device='cuda:0', grad_fn=<NllLossBackward0>),\n",
              " tensor(0.0234, device='cuda:0', grad_fn=<NllLossBackward0>),\n",
              " tensor(0.0842, device='cuda:0', grad_fn=<NllLossBackward0>),\n",
              " tensor(0.0998, device='cuda:0', grad_fn=<NllLossBackward0>),\n",
              " tensor(0.1193, device='cuda:0', grad_fn=<NllLossBackward0>),\n",
              " tensor(0.0320, device='cuda:0', grad_fn=<NllLossBackward0>),\n",
              " tensor(0.0216, device='cuda:0', grad_fn=<NllLossBackward0>),\n",
              " tensor(0.0572, device='cuda:0', grad_fn=<NllLossBackward0>),\n",
              " tensor(0.0115, device='cuda:0', grad_fn=<NllLossBackward0>),\n",
              " tensor(0.0539, device='cuda:0', grad_fn=<NllLossBackward0>),\n",
              " tensor(0.0462, device='cuda:0', grad_fn=<NllLossBackward0>),\n",
              " tensor(0.1070, device='cuda:0', grad_fn=<NllLossBackward0>),\n",
              " tensor(0.0520, device='cuda:0', grad_fn=<NllLossBackward0>),\n",
              " tensor(0.0538, device='cuda:0', grad_fn=<NllLossBackward0>),\n",
              " tensor(0.0362, device='cuda:0', grad_fn=<NllLossBackward0>),\n",
              " tensor(0.0800, device='cuda:0', grad_fn=<NllLossBackward0>),\n",
              " tensor(0.0134, device='cuda:0', grad_fn=<NllLossBackward0>),\n",
              " tensor(0.0880, device='cuda:0', grad_fn=<NllLossBackward0>),\n",
              " tensor(0.0346, device='cuda:0', grad_fn=<NllLossBackward0>),\n",
              " tensor(0.0726, device='cuda:0', grad_fn=<NllLossBackward0>),\n",
              " tensor(0.0282, device='cuda:0', grad_fn=<NllLossBackward0>),\n",
              " tensor(0.0874, device='cuda:0', grad_fn=<NllLossBackward0>),\n",
              " tensor(0.0114, device='cuda:0', grad_fn=<NllLossBackward0>),\n",
              " tensor(0.0137, device='cuda:0', grad_fn=<NllLossBackward0>),\n",
              " tensor(0.0241, device='cuda:0', grad_fn=<NllLossBackward0>),\n",
              " tensor(0.0219, device='cuda:0', grad_fn=<NllLossBackward0>),\n",
              " tensor(0.0758, device='cuda:0', grad_fn=<NllLossBackward0>),\n",
              " tensor(0.0429, device='cuda:0', grad_fn=<NllLossBackward0>),\n",
              " tensor(0.1406, device='cuda:0', grad_fn=<NllLossBackward0>),\n",
              " tensor(0.0792, device='cuda:0', grad_fn=<NllLossBackward0>),\n",
              " tensor(0.0426, device='cuda:0', grad_fn=<NllLossBackward0>),\n",
              " tensor(0.0558, device='cuda:0', grad_fn=<NllLossBackward0>),\n",
              " tensor(0.0419, device='cuda:0', grad_fn=<NllLossBackward0>),\n",
              " tensor(0.0519, device='cuda:0', grad_fn=<NllLossBackward0>),\n",
              " tensor(0.0327, device='cuda:0', grad_fn=<NllLossBackward0>),\n",
              " tensor(0.1461, device='cuda:0', grad_fn=<NllLossBackward0>),\n",
              " tensor(0.0457, device='cuda:0', grad_fn=<NllLossBackward0>),\n",
              " tensor(0.1110, device='cuda:0', grad_fn=<NllLossBackward0>),\n",
              " tensor(0.0800, device='cuda:0', grad_fn=<NllLossBackward0>),\n",
              " tensor(0.0170, device='cuda:0', grad_fn=<NllLossBackward0>),\n",
              " tensor(0.0869, device='cuda:0', grad_fn=<NllLossBackward0>),\n",
              " tensor(0.0324, device='cuda:0', grad_fn=<NllLossBackward0>),\n",
              " tensor(0.0488, device='cuda:0', grad_fn=<NllLossBackward0>),\n",
              " tensor(0.0825, device='cuda:0', grad_fn=<NllLossBackward0>),\n",
              " tensor(0.0936, device='cuda:0', grad_fn=<NllLossBackward0>),\n",
              " tensor(0.0370, device='cuda:0', grad_fn=<NllLossBackward0>),\n",
              " tensor(0.0321, device='cuda:0', grad_fn=<NllLossBackward0>),\n",
              " tensor(0.0106, device='cuda:0', grad_fn=<NllLossBackward0>),\n",
              " tensor(0.0343, device='cuda:0', grad_fn=<NllLossBackward0>),\n",
              " tensor(0.1179, device='cuda:0', grad_fn=<NllLossBackward0>),\n",
              " tensor(0.0295, device='cuda:0', grad_fn=<NllLossBackward0>),\n",
              " tensor(0.0911, device='cuda:0', grad_fn=<NllLossBackward0>),\n",
              " tensor(0.0157, device='cuda:0', grad_fn=<NllLossBackward0>),\n",
              " tensor(0.0193, device='cuda:0', grad_fn=<NllLossBackward0>),\n",
              " tensor(0.0288, device='cuda:0', grad_fn=<NllLossBackward0>),\n",
              " tensor(0.0167, device='cuda:0', grad_fn=<NllLossBackward0>),\n",
              " tensor(0.0369, device='cuda:0', grad_fn=<NllLossBackward0>),\n",
              " tensor(0.0293, device='cuda:0', grad_fn=<NllLossBackward0>),\n",
              " tensor(0.0056, device='cuda:0', grad_fn=<NllLossBackward0>),\n",
              " tensor(0.0767, device='cuda:0', grad_fn=<NllLossBackward0>),\n",
              " tensor(0.0254, device='cuda:0', grad_fn=<NllLossBackward0>),\n",
              " tensor(0.0426, device='cuda:0', grad_fn=<NllLossBackward0>),\n",
              " tensor(0.0494, device='cuda:0', grad_fn=<NllLossBackward0>),\n",
              " tensor(0.0400, device='cuda:0', grad_fn=<NllLossBackward0>),\n",
              " tensor(0.0802, device='cuda:0', grad_fn=<NllLossBackward0>),\n",
              " tensor(0.0489, device='cuda:0', grad_fn=<NllLossBackward0>),\n",
              " tensor(0.0266, device='cuda:0', grad_fn=<NllLossBackward0>),\n",
              " tensor(0.1075, device='cuda:0', grad_fn=<NllLossBackward0>),\n",
              " tensor(0.0104, device='cuda:0', grad_fn=<NllLossBackward0>),\n",
              " tensor(0.0194, device='cuda:0', grad_fn=<NllLossBackward0>),\n",
              " tensor(0.1075, device='cuda:0', grad_fn=<NllLossBackward0>),\n",
              " tensor(0.1072, device='cuda:0', grad_fn=<NllLossBackward0>),\n",
              " tensor(0.0474, device='cuda:0', grad_fn=<NllLossBackward0>),\n",
              " tensor(0.0990, device='cuda:0', grad_fn=<NllLossBackward0>),\n",
              " tensor(0.0432, device='cuda:0', grad_fn=<NllLossBackward0>),\n",
              " tensor(0.0848, device='cuda:0', grad_fn=<NllLossBackward0>),\n",
              " tensor(0.0741, device='cuda:0', grad_fn=<NllLossBackward0>),\n",
              " tensor(0.0456, device='cuda:0', grad_fn=<NllLossBackward0>),\n",
              " tensor(0.0050, device='cuda:0', grad_fn=<NllLossBackward0>),\n",
              " tensor(0.0570, device='cuda:0', grad_fn=<NllLossBackward0>),\n",
              " tensor(0.1117, device='cuda:0', grad_fn=<NllLossBackward0>),\n",
              " tensor(0.1268, device='cuda:0', grad_fn=<NllLossBackward0>),\n",
              " tensor(0.0465, device='cuda:0', grad_fn=<NllLossBackward0>),\n",
              " tensor(0.1716, device='cuda:0', grad_fn=<NllLossBackward0>),\n",
              " tensor(0.1120, device='cuda:0', grad_fn=<NllLossBackward0>),\n",
              " tensor(0.0406, device='cuda:0', grad_fn=<NllLossBackward0>),\n",
              " tensor(0.1019, device='cuda:0', grad_fn=<NllLossBackward0>),\n",
              " tensor(0.0439, device='cuda:0', grad_fn=<NllLossBackward0>),\n",
              " tensor(0.0273, device='cuda:0', grad_fn=<NllLossBackward0>),\n",
              " tensor(0.1072, device='cuda:0', grad_fn=<NllLossBackward0>),\n",
              " tensor(0.0710, device='cuda:0', grad_fn=<NllLossBackward0>),\n",
              " tensor(0.0391, device='cuda:0', grad_fn=<NllLossBackward0>),\n",
              " tensor(0.0113, device='cuda:0', grad_fn=<NllLossBackward0>),\n",
              " tensor(0.0520, device='cuda:0', grad_fn=<NllLossBackward0>),\n",
              " tensor(0.1232, device='cuda:0', grad_fn=<NllLossBackward0>),\n",
              " tensor(0.0434, device='cuda:0', grad_fn=<NllLossBackward0>),\n",
              " tensor(0.0356, device='cuda:0', grad_fn=<NllLossBackward0>),\n",
              " tensor(0.0641, device='cuda:0', grad_fn=<NllLossBackward0>),\n",
              " tensor(0.0276, device='cuda:0', grad_fn=<NllLossBackward0>),\n",
              " tensor(0.0318, device='cuda:0', grad_fn=<NllLossBackward0>),\n",
              " tensor(0.0218, device='cuda:0', grad_fn=<NllLossBackward0>),\n",
              " tensor(0.0347, device='cuda:0', grad_fn=<NllLossBackward0>),\n",
              " tensor(0.0606, device='cuda:0', grad_fn=<NllLossBackward0>),\n",
              " tensor(0.0269, device='cuda:0', grad_fn=<NllLossBackward0>),\n",
              " tensor(0.0566, device='cuda:0', grad_fn=<NllLossBackward0>),\n",
              " tensor(0.0726, device='cuda:0', grad_fn=<NllLossBackward0>),\n",
              " tensor(0.0631, device='cuda:0', grad_fn=<NllLossBackward0>),\n",
              " tensor(0.0784, device='cuda:0', grad_fn=<NllLossBackward0>),\n",
              " tensor(0.1415, device='cuda:0', grad_fn=<NllLossBackward0>),\n",
              " tensor(0.0637, device='cuda:0', grad_fn=<NllLossBackward0>),\n",
              " tensor(0.0880, device='cuda:0', grad_fn=<NllLossBackward0>),\n",
              " tensor(0.0187, device='cuda:0', grad_fn=<NllLossBackward0>),\n",
              " tensor(0.0846, device='cuda:0', grad_fn=<NllLossBackward0>),\n",
              " tensor(0.0194, device='cuda:0', grad_fn=<NllLossBackward0>),\n",
              " tensor(0.0440, device='cuda:0', grad_fn=<NllLossBackward0>),\n",
              " tensor(0.0287, device='cuda:0', grad_fn=<NllLossBackward0>),\n",
              " tensor(0.0288, device='cuda:0', grad_fn=<NllLossBackward0>),\n",
              " tensor(0.0453, device='cuda:0', grad_fn=<NllLossBackward0>),\n",
              " tensor(0.0386, device='cuda:0', grad_fn=<NllLossBackward0>),\n",
              " tensor(0.0237, device='cuda:0', grad_fn=<NllLossBackward0>),\n",
              " tensor(0.0845, device='cuda:0', grad_fn=<NllLossBackward0>),\n",
              " tensor(0.0418, device='cuda:0', grad_fn=<NllLossBackward0>),\n",
              " tensor(0.0429, device='cuda:0', grad_fn=<NllLossBackward0>),\n",
              " tensor(0.0483, device='cuda:0', grad_fn=<NllLossBackward0>),\n",
              " tensor(0.0431, device='cuda:0', grad_fn=<NllLossBackward0>),\n",
              " tensor(0.0924, device='cuda:0', grad_fn=<NllLossBackward0>),\n",
              " tensor(0.0391, device='cuda:0', grad_fn=<NllLossBackward0>),\n",
              " tensor(0.0243, device='cuda:0', grad_fn=<NllLossBackward0>),\n",
              " tensor(0.0233, device='cuda:0', grad_fn=<NllLossBackward0>),\n",
              " tensor(0.0301, device='cuda:0', grad_fn=<NllLossBackward0>),\n",
              " tensor(0.0077, device='cuda:0', grad_fn=<NllLossBackward0>),\n",
              " tensor(0.0600, device='cuda:0', grad_fn=<NllLossBackward0>),\n",
              " tensor(0.0634, device='cuda:0', grad_fn=<NllLossBackward0>),\n",
              " tensor(0.0259, device='cuda:0', grad_fn=<NllLossBackward0>),\n",
              " tensor(0.0645, device='cuda:0', grad_fn=<NllLossBackward0>),\n",
              " tensor(0.0165, device='cuda:0', grad_fn=<NllLossBackward0>),\n",
              " tensor(0.1441, device='cuda:0', grad_fn=<NllLossBackward0>),\n",
              " tensor(0.0717, device='cuda:0', grad_fn=<NllLossBackward0>),\n",
              " tensor(0.0684, device='cuda:0', grad_fn=<NllLossBackward0>),\n",
              " tensor(0.0175, device='cuda:0', grad_fn=<NllLossBackward0>),\n",
              " tensor(0.0292, device='cuda:0', grad_fn=<NllLossBackward0>),\n",
              " tensor(0.0871, device='cuda:0', grad_fn=<NllLossBackward0>),\n",
              " tensor(0.0375, device='cuda:0', grad_fn=<NllLossBackward0>),\n",
              " tensor(0.0360, device='cuda:0', grad_fn=<NllLossBackward0>),\n",
              " tensor(0.0498, device='cuda:0', grad_fn=<NllLossBackward0>),\n",
              " tensor(0.0257, device='cuda:0', grad_fn=<NllLossBackward0>),\n",
              " tensor(0.0470, device='cuda:0', grad_fn=<NllLossBackward0>),\n",
              " tensor(0.0233, device='cuda:0', grad_fn=<NllLossBackward0>),\n",
              " tensor(0.0430, device='cuda:0', grad_fn=<NllLossBackward0>),\n",
              " tensor(0.0888, device='cuda:0', grad_fn=<NllLossBackward0>),\n",
              " tensor(0.1345, device='cuda:0', grad_fn=<NllLossBackward0>),\n",
              " tensor(0.1017, device='cuda:0', grad_fn=<NllLossBackward0>),\n",
              " tensor(0.1583, device='cuda:0', grad_fn=<NllLossBackward0>),\n",
              " tensor(0.0410, device='cuda:0', grad_fn=<NllLossBackward0>),\n",
              " tensor(0.0317, device='cuda:0', grad_fn=<NllLossBackward0>),\n",
              " tensor(0.0566, device='cuda:0', grad_fn=<NllLossBackward0>),\n",
              " tensor(0.0710, device='cuda:0', grad_fn=<NllLossBackward0>),\n",
              " tensor(0.0601, device='cuda:0', grad_fn=<NllLossBackward0>),\n",
              " tensor(0.0399, device='cuda:0', grad_fn=<NllLossBackward0>),\n",
              " tensor(0.0226, device='cuda:0', grad_fn=<NllLossBackward0>),\n",
              " tensor(0.0464, device='cuda:0', grad_fn=<NllLossBackward0>),\n",
              " tensor(0.0832, device='cuda:0', grad_fn=<NllLossBackward0>),\n",
              " tensor(0.0272, device='cuda:0', grad_fn=<NllLossBackward0>),\n",
              " tensor(0.0324, device='cuda:0', grad_fn=<NllLossBackward0>),\n",
              " tensor(0.0949, device='cuda:0', grad_fn=<NllLossBackward0>),\n",
              " tensor(0.1150, device='cuda:0', grad_fn=<NllLossBackward0>),\n",
              " tensor(0.0436, device='cuda:0', grad_fn=<NllLossBackward0>),\n",
              " tensor(0.1117, device='cuda:0', grad_fn=<NllLossBackward0>),\n",
              " tensor(0.0783, device='cuda:0', grad_fn=<NllLossBackward0>),\n",
              " tensor(0.0580, device='cuda:0', grad_fn=<NllLossBackward0>),\n",
              " tensor(0.0175, device='cuda:0', grad_fn=<NllLossBackward0>),\n",
              " tensor(0.0327, device='cuda:0', grad_fn=<NllLossBackward0>),\n",
              " tensor(0.0290, device='cuda:0', grad_fn=<NllLossBackward0>),\n",
              " tensor(0.1070, device='cuda:0', grad_fn=<NllLossBackward0>),\n",
              " tensor(0.0876, device='cuda:0', grad_fn=<NllLossBackward0>),\n",
              " tensor(0.0499, device='cuda:0', grad_fn=<NllLossBackward0>),\n",
              " tensor(0.0300, device='cuda:0', grad_fn=<NllLossBackward0>),\n",
              " tensor(0.0212, device='cuda:0', grad_fn=<NllLossBackward0>),\n",
              " tensor(0.0345, device='cuda:0', grad_fn=<NllLossBackward0>),\n",
              " tensor(0.0166, device='cuda:0', grad_fn=<NllLossBackward0>),\n",
              " tensor(0.1238, device='cuda:0', grad_fn=<NllLossBackward0>),\n",
              " tensor(0.1039, device='cuda:0', grad_fn=<NllLossBackward0>),\n",
              " tensor(0.0177, device='cuda:0', grad_fn=<NllLossBackward0>),\n",
              " tensor(0.0550, device='cuda:0', grad_fn=<NllLossBackward0>),\n",
              " tensor(0.0487, device='cuda:0', grad_fn=<NllLossBackward0>),\n",
              " tensor(0.0232, device='cuda:0', grad_fn=<NllLossBackward0>),\n",
              " tensor(0.0102, device='cuda:0', grad_fn=<NllLossBackward0>),\n",
              " tensor(0.0192, device='cuda:0', grad_fn=<NllLossBackward0>),\n",
              " tensor(0.0893, device='cuda:0', grad_fn=<NllLossBackward0>),\n",
              " tensor(0.0181, device='cuda:0', grad_fn=<NllLossBackward0>),\n",
              " tensor(0.0447, device='cuda:0', grad_fn=<NllLossBackward0>),\n",
              " tensor(0.0391, device='cuda:0', grad_fn=<NllLossBackward0>),\n",
              " tensor(0.0242, device='cuda:0', grad_fn=<NllLossBackward0>),\n",
              " tensor(0.0096, device='cuda:0', grad_fn=<NllLossBackward0>),\n",
              " tensor(0.0924, device='cuda:0', grad_fn=<NllLossBackward0>),\n",
              " tensor(0.0487, device='cuda:0', grad_fn=<NllLossBackward0>),\n",
              " tensor(0.0480, device='cuda:0', grad_fn=<NllLossBackward0>),\n",
              " tensor(0.0677, device='cuda:0', grad_fn=<NllLossBackward0>),\n",
              " tensor(0.1031, device='cuda:0', grad_fn=<NllLossBackward0>),\n",
              " tensor(0.0162, device='cuda:0', grad_fn=<NllLossBackward0>),\n",
              " tensor(0.0926, device='cuda:0', grad_fn=<NllLossBackward0>),\n",
              " tensor(0.0381, device='cuda:0', grad_fn=<NllLossBackward0>),\n",
              " tensor(0.0554, device='cuda:0', grad_fn=<NllLossBackward0>),\n",
              " tensor(0.0309, device='cuda:0', grad_fn=<NllLossBackward0>),\n",
              " tensor(0.0459, device='cuda:0', grad_fn=<NllLossBackward0>),\n",
              " tensor(0.0710, device='cuda:0', grad_fn=<NllLossBackward0>),\n",
              " tensor(0.0337, device='cuda:0', grad_fn=<NllLossBackward0>),\n",
              " tensor(0.0284, device='cuda:0', grad_fn=<NllLossBackward0>),\n",
              " tensor(0.0433, device='cuda:0', grad_fn=<NllLossBackward0>),\n",
              " tensor(0.0641, device='cuda:0', grad_fn=<NllLossBackward0>),\n",
              " tensor(0.0481, device='cuda:0', grad_fn=<NllLossBackward0>),\n",
              " tensor(0.0910, device='cuda:0', grad_fn=<NllLossBackward0>),\n",
              " tensor(0.0421, device='cuda:0', grad_fn=<NllLossBackward0>),\n",
              " tensor(0.0899, device='cuda:0', grad_fn=<NllLossBackward0>),\n",
              " tensor(0.0267, device='cuda:0', grad_fn=<NllLossBackward0>),\n",
              " tensor(0.0761, device='cuda:0', grad_fn=<NllLossBackward0>),\n",
              " tensor(0.0793, device='cuda:0', grad_fn=<NllLossBackward0>),\n",
              " tensor(0.0448, device='cuda:0', grad_fn=<NllLossBackward0>),\n",
              " tensor(0.0131, device='cuda:0', grad_fn=<NllLossBackward0>),\n",
              " tensor(0.0122, device='cuda:0', grad_fn=<NllLossBackward0>),\n",
              " tensor(0.0271, device='cuda:0', grad_fn=<NllLossBackward0>),\n",
              " tensor(0.0610, device='cuda:0', grad_fn=<NllLossBackward0>),\n",
              " tensor(0.0500, device='cuda:0', grad_fn=<NllLossBackward0>),\n",
              " tensor(0.0667, device='cuda:0', grad_fn=<NllLossBackward0>),\n",
              " tensor(0.0482, device='cuda:0', grad_fn=<NllLossBackward0>),\n",
              " tensor(0.0795, device='cuda:0', grad_fn=<NllLossBackward0>),\n",
              " tensor(0.0459, device='cuda:0', grad_fn=<NllLossBackward0>),\n",
              " tensor(0.0143, device='cuda:0', grad_fn=<NllLossBackward0>),\n",
              " tensor(0.0345, device='cuda:0', grad_fn=<NllLossBackward0>),\n",
              " tensor(0.0145, device='cuda:0', grad_fn=<NllLossBackward0>),\n",
              " tensor(0.0072, device='cuda:0', grad_fn=<NllLossBackward0>),\n",
              " tensor(0.0650, device='cuda:0', grad_fn=<NllLossBackward0>),\n",
              " tensor(0.1040, device='cuda:0', grad_fn=<NllLossBackward0>),\n",
              " tensor(0.0290, device='cuda:0', grad_fn=<NllLossBackward0>),\n",
              " tensor(0.0830, device='cuda:0', grad_fn=<NllLossBackward0>),\n",
              " tensor(0.0693, device='cuda:0', grad_fn=<NllLossBackward0>),\n",
              " tensor(0.0192, device='cuda:0', grad_fn=<NllLossBackward0>),\n",
              " tensor(0.0248, device='cuda:0', grad_fn=<NllLossBackward0>),\n",
              " tensor(0.1082, device='cuda:0', grad_fn=<NllLossBackward0>),\n",
              " tensor(0.0106, device='cuda:0', grad_fn=<NllLossBackward0>),\n",
              " tensor(0.0221, device='cuda:0', grad_fn=<NllLossBackward0>),\n",
              " tensor(0.0713, device='cuda:0', grad_fn=<NllLossBackward0>),\n",
              " tensor(0.0694, device='cuda:0', grad_fn=<NllLossBackward0>),\n",
              " tensor(0.0663, device='cuda:0', grad_fn=<NllLossBackward0>),\n",
              " tensor(0.0906, device='cuda:0', grad_fn=<NllLossBackward0>),\n",
              " tensor(0.0286, device='cuda:0', grad_fn=<NllLossBackward0>),\n",
              " tensor(0.0504, device='cuda:0', grad_fn=<NllLossBackward0>),\n",
              " tensor(0.0472, device='cuda:0', grad_fn=<NllLossBackward0>),\n",
              " tensor(0.0243, device='cuda:0', grad_fn=<NllLossBackward0>),\n",
              " tensor(0.0718, device='cuda:0', grad_fn=<NllLossBackward0>),\n",
              " tensor(0.0248, device='cuda:0', grad_fn=<NllLossBackward0>),\n",
              " tensor(0.0512, device='cuda:0', grad_fn=<NllLossBackward0>),\n",
              " tensor(0.0535, device='cuda:0', grad_fn=<NllLossBackward0>),\n",
              " tensor(0.0973, device='cuda:0', grad_fn=<NllLossBackward0>),\n",
              " tensor(0.0166, device='cuda:0', grad_fn=<NllLossBackward0>),\n",
              " tensor(0.0983, device='cuda:0', grad_fn=<NllLossBackward0>),\n",
              " tensor(0.0715, device='cuda:0', grad_fn=<NllLossBackward0>),\n",
              " tensor(0.0134, device='cuda:0', grad_fn=<NllLossBackward0>),\n",
              " tensor(0.0234, device='cuda:0', grad_fn=<NllLossBackward0>),\n",
              " tensor(0.0383, device='cuda:0', grad_fn=<NllLossBackward0>),\n",
              " tensor(0.0158, device='cuda:0', grad_fn=<NllLossBackward0>),\n",
              " tensor(0.0709, device='cuda:0', grad_fn=<NllLossBackward0>),\n",
              " tensor(0.1208, device='cuda:0', grad_fn=<NllLossBackward0>),\n",
              " tensor(0.0671, device='cuda:0', grad_fn=<NllLossBackward0>),\n",
              " tensor(0.0382, device='cuda:0', grad_fn=<NllLossBackward0>),\n",
              " tensor(0.0308, device='cuda:0', grad_fn=<NllLossBackward0>),\n",
              " tensor(0.0506, device='cuda:0', grad_fn=<NllLossBackward0>),\n",
              " tensor(0.1453, device='cuda:0', grad_fn=<NllLossBackward0>),\n",
              " tensor(0.0922, device='cuda:0', grad_fn=<NllLossBackward0>),\n",
              " tensor(0.0434, device='cuda:0', grad_fn=<NllLossBackward0>),\n",
              " tensor(0.0339, device='cuda:0', grad_fn=<NllLossBackward0>),\n",
              " tensor(0.0995, device='cuda:0', grad_fn=<NllLossBackward0>),\n",
              " tensor(0.0430, device='cuda:0', grad_fn=<NllLossBackward0>),\n",
              " tensor(0.0166, device='cuda:0', grad_fn=<NllLossBackward0>),\n",
              " tensor(0.0706, device='cuda:0', grad_fn=<NllLossBackward0>),\n",
              " tensor(0.0460, device='cuda:0', grad_fn=<NllLossBackward0>),\n",
              " tensor(0.0324, device='cuda:0', grad_fn=<NllLossBackward0>),\n",
              " tensor(0.0363, device='cuda:0', grad_fn=<NllLossBackward0>),\n",
              " tensor(0.0595, device='cuda:0', grad_fn=<NllLossBackward0>),\n",
              " tensor(0.0399, device='cuda:0', grad_fn=<NllLossBackward0>),\n",
              " tensor(0.0205, device='cuda:0', grad_fn=<NllLossBackward0>),\n",
              " tensor(0.0583, device='cuda:0', grad_fn=<NllLossBackward0>),\n",
              " tensor(0.0594, device='cuda:0', grad_fn=<NllLossBackward0>),\n",
              " tensor(0.0205, device='cuda:0', grad_fn=<NllLossBackward0>),\n",
              " tensor(0.0249, device='cuda:0', grad_fn=<NllLossBackward0>),\n",
              " tensor(0.0102, device='cuda:0', grad_fn=<NllLossBackward0>),\n",
              " tensor(0.0298, device='cuda:0', grad_fn=<NllLossBackward0>),\n",
              " tensor(0.0318, device='cuda:0', grad_fn=<NllLossBackward0>),\n",
              " tensor(0.0088, device='cuda:0', grad_fn=<NllLossBackward0>),\n",
              " tensor(0.0217, device='cuda:0', grad_fn=<NllLossBackward0>),\n",
              " tensor(0.0243, device='cuda:0', grad_fn=<NllLossBackward0>),\n",
              " tensor(0.0107, device='cuda:0', grad_fn=<NllLossBackward0>),\n",
              " tensor(0.0322, device='cuda:0', grad_fn=<NllLossBackward0>),\n",
              " tensor(0.0379, device='cuda:0', grad_fn=<NllLossBackward0>),\n",
              " tensor(0.0171, device='cuda:0', grad_fn=<NllLossBackward0>),\n",
              " tensor(0.0542, device='cuda:0', grad_fn=<NllLossBackward0>),\n",
              " tensor(0.1216, device='cuda:0', grad_fn=<NllLossBackward0>),\n",
              " tensor(0.0283, device='cuda:0', grad_fn=<NllLossBackward0>),\n",
              " tensor(0.0215, device='cuda:0', grad_fn=<NllLossBackward0>),\n",
              " tensor(0.0223, device='cuda:0', grad_fn=<NllLossBackward0>),\n",
              " tensor(0.0325, device='cuda:0', grad_fn=<NllLossBackward0>),\n",
              " tensor(0.0646, device='cuda:0', grad_fn=<NllLossBackward0>),\n",
              " tensor(0.0049, device='cuda:0', grad_fn=<NllLossBackward0>),\n",
              " tensor(0.0662, device='cuda:0', grad_fn=<NllLossBackward0>),\n",
              " tensor(0.0681, device='cuda:0', grad_fn=<NllLossBackward0>),\n",
              " tensor(0.0138, device='cuda:0', grad_fn=<NllLossBackward0>),\n",
              " tensor(0.0073, device='cuda:0', grad_fn=<NllLossBackward0>),\n",
              " tensor(0.0234, device='cuda:0', grad_fn=<NllLossBackward0>),\n",
              " tensor(0.0804, device='cuda:0', grad_fn=<NllLossBackward0>),\n",
              " tensor(0.0401, device='cuda:0', grad_fn=<NllLossBackward0>),\n",
              " tensor(0.0430, device='cuda:0', grad_fn=<NllLossBackward0>),\n",
              " tensor(0.0647, device='cuda:0', grad_fn=<NllLossBackward0>),\n",
              " tensor(0.0641, device='cuda:0', grad_fn=<NllLossBackward0>),\n",
              " tensor(0.0405, device='cuda:0', grad_fn=<NllLossBackward0>),\n",
              " tensor(0.0197, device='cuda:0', grad_fn=<NllLossBackward0>),\n",
              " tensor(0.0508, device='cuda:0', grad_fn=<NllLossBackward0>),\n",
              " tensor(0.0576, device='cuda:0', grad_fn=<NllLossBackward0>),\n",
              " tensor(0.1799, device='cuda:0', grad_fn=<NllLossBackward0>),\n",
              " tensor(0.0056, device='cuda:0', grad_fn=<NllLossBackward0>),\n",
              " tensor(0.0672, device='cuda:0', grad_fn=<NllLossBackward0>),\n",
              " tensor(0.0837, device='cuda:0', grad_fn=<NllLossBackward0>),\n",
              " tensor(0.0421, device='cuda:0', grad_fn=<NllLossBackward0>),\n",
              " tensor(0.0977, device='cuda:0', grad_fn=<NllLossBackward0>),\n",
              " tensor(0.0476, device='cuda:0', grad_fn=<NllLossBackward0>),\n",
              " tensor(0.0762, device='cuda:0', grad_fn=<NllLossBackward0>),\n",
              " tensor(0.0763, device='cuda:0', grad_fn=<NllLossBackward0>),\n",
              " tensor(0.0531, device='cuda:0', grad_fn=<NllLossBackward0>),\n",
              " tensor(0.0415, device='cuda:0', grad_fn=<NllLossBackward0>),\n",
              " tensor(0.0197, device='cuda:0', grad_fn=<NllLossBackward0>),\n",
              " tensor(0.0229, device='cuda:0', grad_fn=<NllLossBackward0>),\n",
              " tensor(0.0507, device='cuda:0', grad_fn=<NllLossBackward0>),\n",
              " tensor(0.0429, device='cuda:0', grad_fn=<NllLossBackward0>),\n",
              " tensor(0.0518, device='cuda:0', grad_fn=<NllLossBackward0>),\n",
              " tensor(0.0176, device='cuda:0', grad_fn=<NllLossBackward0>),\n",
              " tensor(0.0307, device='cuda:0', grad_fn=<NllLossBackward0>),\n",
              " tensor(0.0281, device='cuda:0', grad_fn=<NllLossBackward0>),\n",
              " tensor(0.0254, device='cuda:0', grad_fn=<NllLossBackward0>),\n",
              " tensor(0.0255, device='cuda:0', grad_fn=<NllLossBackward0>),\n",
              " tensor(0.0135, device='cuda:0', grad_fn=<NllLossBackward0>),\n",
              " tensor(0.0714, device='cuda:0', grad_fn=<NllLossBackward0>),\n",
              " tensor(0.0201, device='cuda:0', grad_fn=<NllLossBackward0>),\n",
              " tensor(0.0108, device='cuda:0', grad_fn=<NllLossBackward0>),\n",
              " tensor(0.0418, device='cuda:0', grad_fn=<NllLossBackward0>),\n",
              " tensor(0.0763, device='cuda:0', grad_fn=<NllLossBackward0>),\n",
              " tensor(0.0164, device='cuda:0', grad_fn=<NllLossBackward0>),\n",
              " tensor(0.0708, device='cuda:0', grad_fn=<NllLossBackward0>),\n",
              " tensor(0.0162, device='cuda:0', grad_fn=<NllLossBackward0>),\n",
              " tensor(0.0635, device='cuda:0', grad_fn=<NllLossBackward0>),\n",
              " tensor(0.0446, device='cuda:0', grad_fn=<NllLossBackward0>),\n",
              " tensor(0.0257, device='cuda:0', grad_fn=<NllLossBackward0>),\n",
              " tensor(0.0456, device='cuda:0', grad_fn=<NllLossBackward0>),\n",
              " tensor(0.0336, device='cuda:0', grad_fn=<NllLossBackward0>),\n",
              " tensor(0.0680, device='cuda:0', grad_fn=<NllLossBackward0>),\n",
              " tensor(0.0082, device='cuda:0', grad_fn=<NllLossBackward0>),\n",
              " tensor(0.0259, device='cuda:0', grad_fn=<NllLossBackward0>),\n",
              " tensor(0.0534, device='cuda:0', grad_fn=<NllLossBackward0>),\n",
              " tensor(0.0139, device='cuda:0', grad_fn=<NllLossBackward0>),\n",
              " tensor(0.0566, device='cuda:0', grad_fn=<NllLossBackward0>),\n",
              " tensor(0.0827, device='cuda:0', grad_fn=<NllLossBackward0>),\n",
              " tensor(0.1062, device='cuda:0', grad_fn=<NllLossBackward0>),\n",
              " tensor(0.0196, device='cuda:0', grad_fn=<NllLossBackward0>),\n",
              " tensor(0.0798, device='cuda:0', grad_fn=<NllLossBackward0>),\n",
              " tensor(0.0371, device='cuda:0', grad_fn=<NllLossBackward0>),\n",
              " tensor(0.0517, device='cuda:0', grad_fn=<NllLossBackward0>),\n",
              " tensor(0.1145, device='cuda:0', grad_fn=<NllLossBackward0>),\n",
              " tensor(0.0296, device='cuda:0', grad_fn=<NllLossBackward0>),\n",
              " tensor(0.0188, device='cuda:0', grad_fn=<NllLossBackward0>),\n",
              " tensor(0.0284, device='cuda:0', grad_fn=<NllLossBackward0>),\n",
              " tensor(0.0679, device='cuda:0', grad_fn=<NllLossBackward0>),\n",
              " tensor(0.0423, device='cuda:0', grad_fn=<NllLossBackward0>),\n",
              " tensor(0.0101, device='cuda:0', grad_fn=<NllLossBackward0>),\n",
              " tensor(0.0272, device='cuda:0', grad_fn=<NllLossBackward0>),\n",
              " tensor(0.0440, device='cuda:0', grad_fn=<NllLossBackward0>),\n",
              " tensor(0.0200, device='cuda:0', grad_fn=<NllLossBackward0>),\n",
              " tensor(0.0087, device='cuda:0', grad_fn=<NllLossBackward0>),\n",
              " tensor(0.0170, device='cuda:0', grad_fn=<NllLossBackward0>),\n",
              " tensor(0.0368, device='cuda:0', grad_fn=<NllLossBackward0>),\n",
              " tensor(0.0520, device='cuda:0', grad_fn=<NllLossBackward0>),\n",
              " tensor(0.0479, device='cuda:0', grad_fn=<NllLossBackward0>),\n",
              " tensor(0.0559, device='cuda:0', grad_fn=<NllLossBackward0>),\n",
              " tensor(0.0324, device='cuda:0', grad_fn=<NllLossBackward0>),\n",
              " tensor(0.1313, device='cuda:0', grad_fn=<NllLossBackward0>),\n",
              " tensor(0.0238, device='cuda:0', grad_fn=<NllLossBackward0>),\n",
              " tensor(0.0891, device='cuda:0', grad_fn=<NllLossBackward0>),\n",
              " tensor(0.1167, device='cuda:0', grad_fn=<NllLossBackward0>),\n",
              " tensor(0.0916, device='cuda:0', grad_fn=<NllLossBackward0>),\n",
              " tensor(0.0143, device='cuda:0', grad_fn=<NllLossBackward0>),\n",
              " tensor(0.0702, device='cuda:0', grad_fn=<NllLossBackward0>),\n",
              " tensor(0.0496, device='cuda:0', grad_fn=<NllLossBackward0>),\n",
              " tensor(0.0299, device='cuda:0', grad_fn=<NllLossBackward0>),\n",
              " tensor(0.0456, device='cuda:0', grad_fn=<NllLossBackward0>),\n",
              " tensor(0.0776, device='cuda:0', grad_fn=<NllLossBackward0>),\n",
              " tensor(0.0256, device='cuda:0', grad_fn=<NllLossBackward0>),\n",
              " tensor(0.0996, device='cuda:0', grad_fn=<NllLossBackward0>),\n",
              " tensor(0.0243, device='cuda:0', grad_fn=<NllLossBackward0>),\n",
              " tensor(0.1597, device='cuda:0', grad_fn=<NllLossBackward0>),\n",
              " tensor(0.0770, device='cuda:0', grad_fn=<NllLossBackward0>),\n",
              " tensor(0.0675, device='cuda:0', grad_fn=<NllLossBackward0>),\n",
              " tensor(0.0403, device='cuda:0', grad_fn=<NllLossBackward0>),\n",
              " tensor(0.0936, device='cuda:0', grad_fn=<NllLossBackward0>),\n",
              " tensor(0.1172, device='cuda:0', grad_fn=<NllLossBackward0>),\n",
              " tensor(0.0470, device='cuda:0', grad_fn=<NllLossBackward0>),\n",
              " tensor(0.0809, device='cuda:0', grad_fn=<NllLossBackward0>),\n",
              " tensor(0.0340, device='cuda:0', grad_fn=<NllLossBackward0>),\n",
              " tensor(0.0225, device='cuda:0', grad_fn=<NllLossBackward0>),\n",
              " tensor(0.0313, device='cuda:0', grad_fn=<NllLossBackward0>),\n",
              " tensor(0.0294, device='cuda:0', grad_fn=<NllLossBackward0>),\n",
              " tensor(0.1213, device='cuda:0', grad_fn=<NllLossBackward0>),\n",
              " tensor(0.0393, device='cuda:0', grad_fn=<NllLossBackward0>),\n",
              " tensor(0.0186, device='cuda:0', grad_fn=<NllLossBackward0>),\n",
              " tensor(0.0540, device='cuda:0', grad_fn=<NllLossBackward0>),\n",
              " tensor(0.0190, device='cuda:0', grad_fn=<NllLossBackward0>),\n",
              " tensor(0.0146, device='cuda:0', grad_fn=<NllLossBackward0>),\n",
              " tensor(0.0523, device='cuda:0', grad_fn=<NllLossBackward0>),\n",
              " tensor(0.0528, device='cuda:0', grad_fn=<NllLossBackward0>),\n",
              " tensor(0.0416, device='cuda:0', grad_fn=<NllLossBackward0>),\n",
              " tensor(0.0473, device='cuda:0', grad_fn=<NllLossBackward0>),\n",
              " tensor(0.0421, device='cuda:0', grad_fn=<NllLossBackward0>),\n",
              " tensor(0.0559, device='cuda:0', grad_fn=<NllLossBackward0>),\n",
              " tensor(0.0281, device='cuda:0', grad_fn=<NllLossBackward0>),\n",
              " tensor(0.1331, device='cuda:0', grad_fn=<NllLossBackward0>),\n",
              " tensor(0.0371, device='cuda:0', grad_fn=<NllLossBackward0>),\n",
              " tensor(0.0415, device='cuda:0', grad_fn=<NllLossBackward0>),\n",
              " tensor(0.0156, device='cuda:0', grad_fn=<NllLossBackward0>),\n",
              " tensor(0.0196, device='cuda:0', grad_fn=<NllLossBackward0>),\n",
              " tensor(0.0338, device='cuda:0', grad_fn=<NllLossBackward0>),\n",
              " tensor(0.0741, device='cuda:0', grad_fn=<NllLossBackward0>),\n",
              " tensor(0.0483, device='cuda:0', grad_fn=<NllLossBackward0>),\n",
              " tensor(0.0370, device='cuda:0', grad_fn=<NllLossBackward0>),\n",
              " tensor(0.0412, device='cuda:0', grad_fn=<NllLossBackward0>),\n",
              " tensor(0.0457, device='cuda:0', grad_fn=<NllLossBackward0>),\n",
              " tensor(0.0128, device='cuda:0', grad_fn=<NllLossBackward0>),\n",
              " tensor(0.0246, device='cuda:0', grad_fn=<NllLossBackward0>),\n",
              " tensor(0.0218, device='cuda:0', grad_fn=<NllLossBackward0>),\n",
              " tensor(0.0134, device='cuda:0', grad_fn=<NllLossBackward0>),\n",
              " tensor(0.0203, device='cuda:0', grad_fn=<NllLossBackward0>),\n",
              " tensor(0.0281, device='cuda:0', grad_fn=<NllLossBackward0>),\n",
              " tensor(0.0253, device='cuda:0', grad_fn=<NllLossBackward0>),\n",
              " tensor(0.0132, device='cuda:0', grad_fn=<NllLossBackward0>),\n",
              " tensor(0.0130, device='cuda:0', grad_fn=<NllLossBackward0>),\n",
              " tensor(0.0097, device='cuda:0', grad_fn=<NllLossBackward0>),\n",
              " tensor(0.0097, device='cuda:0', grad_fn=<NllLossBackward0>),\n",
              " tensor(0.0410, device='cuda:0', grad_fn=<NllLossBackward0>),\n",
              " tensor(0.0215, device='cuda:0', grad_fn=<NllLossBackward0>),\n",
              " tensor(0.0280, device='cuda:0', grad_fn=<NllLossBackward0>),\n",
              " tensor(0.0404, device='cuda:0', grad_fn=<NllLossBackward0>),\n",
              " tensor(0.0155, device='cuda:0', grad_fn=<NllLossBackward0>),\n",
              " tensor(0.0168, device='cuda:0', grad_fn=<NllLossBackward0>),\n",
              " tensor(0.0871, device='cuda:0', grad_fn=<NllLossBackward0>),\n",
              " tensor(0.0147, device='cuda:0', grad_fn=<NllLossBackward0>),\n",
              " tensor(0.0355, device='cuda:0', grad_fn=<NllLossBackward0>),\n",
              " tensor(0.0209, device='cuda:0', grad_fn=<NllLossBackward0>),\n",
              " tensor(0.0249, device='cuda:0', grad_fn=<NllLossBackward0>),\n",
              " tensor(0.0041, device='cuda:0', grad_fn=<NllLossBackward0>),\n",
              " tensor(0.0439, device='cuda:0', grad_fn=<NllLossBackward0>),\n",
              " tensor(0.0192, device='cuda:0', grad_fn=<NllLossBackward0>),\n",
              " tensor(0.0304, device='cuda:0', grad_fn=<NllLossBackward0>),\n",
              " tensor(0.0286, device='cuda:0', grad_fn=<NllLossBackward0>),\n",
              " tensor(0.0353, device='cuda:0', grad_fn=<NllLossBackward0>),\n",
              " tensor(0.0196, device='cuda:0', grad_fn=<NllLossBackward0>),\n",
              " tensor(0.0342, device='cuda:0', grad_fn=<NllLossBackward0>),\n",
              " tensor(0.0500, device='cuda:0', grad_fn=<NllLossBackward0>),\n",
              " tensor(0.0363, device='cuda:0', grad_fn=<NllLossBackward0>),\n",
              " tensor(0.0200, device='cuda:0', grad_fn=<NllLossBackward0>),\n",
              " tensor(0.0635, device='cuda:0', grad_fn=<NllLossBackward0>),\n",
              " tensor(0.0251, device='cuda:0', grad_fn=<NllLossBackward0>),\n",
              " tensor(0.0048, device='cuda:0', grad_fn=<NllLossBackward0>),\n",
              " tensor(0.0115, device='cuda:0', grad_fn=<NllLossBackward0>),\n",
              " tensor(0.0138, device='cuda:0', grad_fn=<NllLossBackward0>),\n",
              " tensor(0.0234, device='cuda:0', grad_fn=<NllLossBackward0>),\n",
              " tensor(0.0409, device='cuda:0', grad_fn=<NllLossBackward0>),\n",
              " tensor(0.0228, device='cuda:0', grad_fn=<NllLossBackward0>),\n",
              " tensor(0.0304, device='cuda:0', grad_fn=<NllLossBackward0>),\n",
              " tensor(0.0413, device='cuda:0', grad_fn=<NllLossBackward0>),\n",
              " tensor(0.0282, device='cuda:0', grad_fn=<NllLossBackward0>),\n",
              " tensor(0.0113, device='cuda:0', grad_fn=<NllLossBackward0>),\n",
              " tensor(0.0341, device='cuda:0', grad_fn=<NllLossBackward0>),\n",
              " tensor(0.0646, device='cuda:0', grad_fn=<NllLossBackward0>),\n",
              " tensor(0.0076, device='cuda:0', grad_fn=<NllLossBackward0>),\n",
              " tensor(0.0104, device='cuda:0', grad_fn=<NllLossBackward0>),\n",
              " tensor(0.0061, device='cuda:0', grad_fn=<NllLossBackward0>),\n",
              " tensor(0.0204, device='cuda:0', grad_fn=<NllLossBackward0>),\n",
              " tensor(0.0116, device='cuda:0', grad_fn=<NllLossBackward0>),\n",
              " tensor(0.0340, device='cuda:0', grad_fn=<NllLossBackward0>),\n",
              " tensor(0.0690, device='cuda:0', grad_fn=<NllLossBackward0>),\n",
              " tensor(0.0597, device='cuda:0', grad_fn=<NllLossBackward0>),\n",
              " tensor(0.0118, device='cuda:0', grad_fn=<NllLossBackward0>),\n",
              " tensor(0.0258, device='cuda:0', grad_fn=<NllLossBackward0>),\n",
              " tensor(0.0509, device='cuda:0', grad_fn=<NllLossBackward0>),\n",
              " tensor(0.0124, device='cuda:0', grad_fn=<NllLossBackward0>),\n",
              " tensor(0.0117, device='cuda:0', grad_fn=<NllLossBackward0>),\n",
              " tensor(0.0221, device='cuda:0', grad_fn=<NllLossBackward0>),\n",
              " tensor(0.0298, device='cuda:0', grad_fn=<NllLossBackward0>),\n",
              " tensor(0.0900, device='cuda:0', grad_fn=<NllLossBackward0>),\n",
              " tensor(0.0478, device='cuda:0', grad_fn=<NllLossBackward0>),\n",
              " tensor(0.0207, device='cuda:0', grad_fn=<NllLossBackward0>),\n",
              " ...]"
            ]
          },
          "metadata": {},
          "execution_count": 16
        }
      ]
    },
    {
      "cell_type": "code",
      "source": [
        "t = [t_items.item() for t_items in train_losses]"
      ],
      "metadata": {
        "id": "BnfNrAmKl5Tc"
      },
      "execution_count": null,
      "outputs": []
    },
    {
      "cell_type": "code",
      "metadata": {
        "id": "87RaqGSEOWDe",
        "colab": {
          "base_uri": "https://localhost:8080/",
          "height": 742
        },
        "outputId": "897f73d1-5b6b-4130-c56c-9203c808fdab"
      },
      "source": [
        "fig, axs = plt.subplots(2,2,figsize=(15,10))\n",
        "axs[0, 0].plot(t)\n",
        "axs[0, 0].set_title(\"Training Loss\")\n",
        "axs[1, 0].plot(train_acc)\n",
        "axs[1, 0].set_title(\"Training Accuracy\")\n",
        "axs[0, 1].plot(test_losses)\n",
        "axs[0, 1].set_title(\"Test Loss\")\n",
        "axs[1, 1].plot(test_acc)\n",
        "axs[1, 1].set_title(\"Test Accuracy\")"
      ],
      "execution_count": null,
      "outputs": [
        {
          "output_type": "execute_result",
          "data": {
            "text/plain": [
              "Text(0.5, 1.0, 'Test Accuracy')"
            ]
          },
          "metadata": {},
          "execution_count": 26
        },
        {
          "output_type": "display_data",
          "data": {
            "text/plain": [
              "<Figure size 1500x1000 with 4 Axes>"
            ],
            "image/png": "[encoded data removed]"
          },
          "metadata": {}
        }
      ]
    },
    {
      "cell_type": "code",
      "metadata": {
        "id": "odozjbIvY12p"
      },
      "source": [],
      "execution_count": null,
      "outputs": []
    }
  ]
}